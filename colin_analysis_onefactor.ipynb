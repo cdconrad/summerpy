{
 "cells": [
  {
   "cell_type": "markdown",
   "metadata": {},
   "source": [
    "# Analysis of Social App Data\n",
    "© 2021 Gabriel Orellana Diaz and Colin Conrad\n",
    "\n",
    "Permission is hereby granted, free of charge, to any person obtaining a copy of this software and associated documentation files (the \"Software\"), to deal in the Software without restriction, including without limitation the rights to use, copy, modify, merge, publish, distribute, sublicense, and/or sell copies of the Software, and to permit persons to whom the Software is furnished to do so, subject to the following conditions:\n",
    "\n",
    "The above copyright notice and this permission notice shall be included in all copies or substantial portions of the Software.\n",
    "\n",
    "THE SOFTWARE IS PROVIDED \"AS IS\", WITHOUT WARRANTY OF ANY KIND, EXPRESS OR IMPLIED, INCLUDING BUT NOT LIMITED TO THE WARRANTIES OF MERCHANTABILITY, FITNESS FOR A PARTICULAR PURPOSE AND NONINFRINGEMENT. IN NO EVENT SHALL THE AUTHORS OR COPYRIGHT HOLDERS BE LIABLE FOR ANY CLAIM, DAMAGES OR OTHER LIABILITY, WHETHER IN AN ACTION OF CONTRACT, TORT OR OTHERWISE, ARISING FROM, OUT OF OR IN CONNECTION WITH THE SOFTWARE OR THE USE OR OTHER DEALINGS IN THE SOFTWARE.\n",
    "\n",
    "## Load the data"
   ]
  },
  {
   "cell_type": "code",
   "execution_count": 1,
   "metadata": {},
   "outputs": [],
   "source": [
    "import numpy as np\n",
    "import pandas as pd\n",
    "import matplotlib.pyplot as plt\n",
    "import seaborn as sns\n",
    "\n",
    "import statsmodels.api as sm\n",
    "from statsmodels.sandbox.regression.predstd import wls_prediction_std\n",
    "from scipy import stats\n",
    "\n",
    "sns.set_theme() # set seaborn\n",
    "\n",
    "data = pd.read_csv(\"gabriel_data.csv\") "
   ]
  },
  {
   "cell_type": "markdown",
   "metadata": {},
   "source": [
    "### Specify the titles of the questionnaire items"
   ]
  },
  {
   "cell_type": "code",
   "execution_count": 2,
   "metadata": {},
   "outputs": [],
   "source": [
    "processed = pd.DataFrame() # create a new data frame for processed data\n",
    "\n",
    "# demographic questions\n",
    "processed['age'] = data['Q1']\n",
    "processed['gender'] = data['Q2']\n",
    "\n",
    "# apps used\n",
    "processed['apps_used'] = data['Q3']\n",
    "\n",
    "# Q4 is missing because it was a dummy used for instructional purposes\n",
    "\n",
    "# affordances\n",
    "processed['apps_purposes'] = data['Q5']\n",
    "\n",
    "# did these result in conversations or matches?\n",
    "processed['apps_conversations'] = data['Q6']\n",
    "processed['apps_match'] = data['Q7']\n",
    "\n",
    "# questions about dating apps\n",
    "processed['AS1'] = data['Q8']\n",
    "processed['AS2'] = data['Q9']\n",
    "processed['AS3'] = data['Q10']\n",
    "processed['AT1'] = data['Q11']\n",
    "processed['AT2'] = data['Q12']\n",
    "processed['app_social'] = (data['Q8'] + data['Q9'] + data['Q10'])/3 # social presence measure\n",
    "processed['app_trust'] = (data['Q11'] + data['Q12'])/2 # trust measure\n",
    "processed['app_social_trust'] = (data['Q8'] + data['Q9'] + data['Q10'] + data['Q11'] + data['Q12'])/5 # social trust combined\n",
    "processed['app_ease'] = data['Q13']\n",
    "processed['app_hours'] = data['Q14']\n",
    "\n",
    "# questions about in-person dates\n",
    "processed['PS1'] = data['Q15']\n",
    "processed['PS2'] = data['Q16']\n",
    "processed['PS3'] = data['Q17']\n",
    "processed['PT1'] = data['Q18']\n",
    "processed['PT2'] = data['Q19']\n",
    "processed['physical_social'] = (data['Q15'] + data['Q16'] + data['Q17'])/3\n",
    "processed['physical_trust'] = (data['Q18'] + data['Q19'])/2\n",
    "processed['physical_social_trust'] = (data['Q15'] + data['Q16'] + data['Q17'] + data['Q18'] + data['Q19'])/5\n",
    "processed['physical_ease'] = data['Q20']\n",
    "processed['physical_hours'] = data['Q21']\n",
    "\n",
    "# questions about online communities\n",
    "processed['OS1'] = data['Q22']\n",
    "processed['OS2'] = data['Q23']\n",
    "processed['OS3'] = data['Q24']\n",
    "processed['OT1'] = data['Q25']\n",
    "processed['OT2'] = data['Q26']\n",
    "processed['online_social'] = (data['Q22'] + data['Q23'] + data['Q24'])/3\n",
    "processed['online_trust'] = (data['Q25'] + data['Q26'])/2\n",
    "processed['online_social_trust'] = (data['Q22'] + data['Q23'] + data['Q24'] + data['Q25'] + data['Q26'])/5\n",
    "processed['online_ease'] = data['Q27']\n",
    "\n",
    "# questions about covid\n",
    "processed['covid_apps_more'] = data['Q28']\n",
    "processed['covid_physical_more'] = data['Q29']\n",
    "processed['covid_online_more'] = data['Q30']"
   ]
  },
  {
   "cell_type": "code",
   "execution_count": 3,
   "metadata": {},
   "outputs": [
    {
     "data": {
      "text/html": [
       "<div>\n",
       "<style scoped>\n",
       "    .dataframe tbody tr th:only-of-type {\n",
       "        vertical-align: middle;\n",
       "    }\n",
       "\n",
       "    .dataframe tbody tr th {\n",
       "        vertical-align: top;\n",
       "    }\n",
       "\n",
       "    .dataframe thead th {\n",
       "        text-align: right;\n",
       "    }\n",
       "</style>\n",
       "<table border=\"1\" class=\"dataframe\">\n",
       "  <thead>\n",
       "    <tr style=\"text-align: right;\">\n",
       "      <th></th>\n",
       "      <th>age</th>\n",
       "      <th>gender</th>\n",
       "      <th>apps_conversations</th>\n",
       "      <th>apps_match</th>\n",
       "      <th>AS1</th>\n",
       "      <th>AS2</th>\n",
       "      <th>AS3</th>\n",
       "      <th>AT1</th>\n",
       "      <th>AT2</th>\n",
       "      <th>app_social</th>\n",
       "      <th>...</th>\n",
       "      <th>OS3</th>\n",
       "      <th>OT1</th>\n",
       "      <th>OT2</th>\n",
       "      <th>online_social</th>\n",
       "      <th>online_trust</th>\n",
       "      <th>online_social_trust</th>\n",
       "      <th>online_ease</th>\n",
       "      <th>covid_apps_more</th>\n",
       "      <th>covid_physical_more</th>\n",
       "      <th>covid_online_more</th>\n",
       "    </tr>\n",
       "  </thead>\n",
       "  <tbody>\n",
       "    <tr>\n",
       "      <th>count</th>\n",
       "      <td>194.000000</td>\n",
       "      <td>194.000000</td>\n",
       "      <td>194.000000</td>\n",
       "      <td>194.000000</td>\n",
       "      <td>194.000000</td>\n",
       "      <td>194.000000</td>\n",
       "      <td>194.000000</td>\n",
       "      <td>194.000000</td>\n",
       "      <td>194.000000</td>\n",
       "      <td>194.000000</td>\n",
       "      <td>...</td>\n",
       "      <td>194.000000</td>\n",
       "      <td>194.000000</td>\n",
       "      <td>194.000000</td>\n",
       "      <td>194.000000</td>\n",
       "      <td>194.000000</td>\n",
       "      <td>194.000000</td>\n",
       "      <td>194.000000</td>\n",
       "      <td>194.000000</td>\n",
       "      <td>194.000000</td>\n",
       "      <td>194.000000</td>\n",
       "    </tr>\n",
       "    <tr>\n",
       "      <th>mean</th>\n",
       "      <td>2.469072</td>\n",
       "      <td>0.592784</td>\n",
       "      <td>2.618557</td>\n",
       "      <td>2.989691</td>\n",
       "      <td>4.664948</td>\n",
       "      <td>4.644330</td>\n",
       "      <td>4.149485</td>\n",
       "      <td>4.015464</td>\n",
       "      <td>4.144330</td>\n",
       "      <td>4.486254</td>\n",
       "      <td>...</td>\n",
       "      <td>4.520619</td>\n",
       "      <td>4.139175</td>\n",
       "      <td>4.257732</td>\n",
       "      <td>4.701031</td>\n",
       "      <td>4.198454</td>\n",
       "      <td>4.500000</td>\n",
       "      <td>3.314433</td>\n",
       "      <td>3.432990</td>\n",
       "      <td>2.355670</td>\n",
       "      <td>4.783505</td>\n",
       "    </tr>\n",
       "    <tr>\n",
       "      <th>std</th>\n",
       "      <td>1.003399</td>\n",
       "      <td>0.492587</td>\n",
       "      <td>1.151195</td>\n",
       "      <td>1.077272</td>\n",
       "      <td>1.405433</td>\n",
       "      <td>1.440457</td>\n",
       "      <td>1.528088</td>\n",
       "      <td>1.367562</td>\n",
       "      <td>1.414138</td>\n",
       "      <td>1.289917</td>\n",
       "      <td>...</td>\n",
       "      <td>1.377874</td>\n",
       "      <td>1.416487</td>\n",
       "      <td>1.441634</td>\n",
       "      <td>1.190042</td>\n",
       "      <td>1.364064</td>\n",
       "      <td>1.139084</td>\n",
       "      <td>1.792066</td>\n",
       "      <td>1.862681</td>\n",
       "      <td>1.679592</td>\n",
       "      <td>1.707811</td>\n",
       "    </tr>\n",
       "    <tr>\n",
       "      <th>min</th>\n",
       "      <td>1.000000</td>\n",
       "      <td>0.000000</td>\n",
       "      <td>1.000000</td>\n",
       "      <td>1.000000</td>\n",
       "      <td>1.000000</td>\n",
       "      <td>1.000000</td>\n",
       "      <td>1.000000</td>\n",
       "      <td>1.000000</td>\n",
       "      <td>1.000000</td>\n",
       "      <td>1.000000</td>\n",
       "      <td>...</td>\n",
       "      <td>1.000000</td>\n",
       "      <td>1.000000</td>\n",
       "      <td>1.000000</td>\n",
       "      <td>1.000000</td>\n",
       "      <td>1.000000</td>\n",
       "      <td>1.000000</td>\n",
       "      <td>1.000000</td>\n",
       "      <td>1.000000</td>\n",
       "      <td>1.000000</td>\n",
       "      <td>1.000000</td>\n",
       "    </tr>\n",
       "    <tr>\n",
       "      <th>25%</th>\n",
       "      <td>2.000000</td>\n",
       "      <td>0.000000</td>\n",
       "      <td>2.000000</td>\n",
       "      <td>2.000000</td>\n",
       "      <td>4.000000</td>\n",
       "      <td>4.000000</td>\n",
       "      <td>3.000000</td>\n",
       "      <td>3.000000</td>\n",
       "      <td>3.000000</td>\n",
       "      <td>3.666667</td>\n",
       "      <td>...</td>\n",
       "      <td>4.000000</td>\n",
       "      <td>3.000000</td>\n",
       "      <td>3.000000</td>\n",
       "      <td>4.000000</td>\n",
       "      <td>3.500000</td>\n",
       "      <td>3.850000</td>\n",
       "      <td>2.000000</td>\n",
       "      <td>2.000000</td>\n",
       "      <td>1.000000</td>\n",
       "      <td>4.000000</td>\n",
       "    </tr>\n",
       "    <tr>\n",
       "      <th>50%</th>\n",
       "      <td>2.000000</td>\n",
       "      <td>1.000000</td>\n",
       "      <td>2.000000</td>\n",
       "      <td>3.000000</td>\n",
       "      <td>5.000000</td>\n",
       "      <td>5.000000</td>\n",
       "      <td>5.000000</td>\n",
       "      <td>4.000000</td>\n",
       "      <td>4.000000</td>\n",
       "      <td>4.666667</td>\n",
       "      <td>...</td>\n",
       "      <td>5.000000</td>\n",
       "      <td>4.000000</td>\n",
       "      <td>4.000000</td>\n",
       "      <td>5.000000</td>\n",
       "      <td>4.000000</td>\n",
       "      <td>4.600000</td>\n",
       "      <td>3.000000</td>\n",
       "      <td>3.000000</td>\n",
       "      <td>2.000000</td>\n",
       "      <td>5.000000</td>\n",
       "    </tr>\n",
       "    <tr>\n",
       "      <th>75%</th>\n",
       "      <td>3.000000</td>\n",
       "      <td>1.000000</td>\n",
       "      <td>3.000000</td>\n",
       "      <td>3.000000</td>\n",
       "      <td>6.000000</td>\n",
       "      <td>6.000000</td>\n",
       "      <td>5.000000</td>\n",
       "      <td>5.000000</td>\n",
       "      <td>5.000000</td>\n",
       "      <td>5.333333</td>\n",
       "      <td>...</td>\n",
       "      <td>5.000000</td>\n",
       "      <td>5.000000</td>\n",
       "      <td>5.000000</td>\n",
       "      <td>5.333333</td>\n",
       "      <td>5.000000</td>\n",
       "      <td>5.200000</td>\n",
       "      <td>5.000000</td>\n",
       "      <td>5.000000</td>\n",
       "      <td>3.000000</td>\n",
       "      <td>6.000000</td>\n",
       "    </tr>\n",
       "    <tr>\n",
       "      <th>max</th>\n",
       "      <td>5.000000</td>\n",
       "      <td>1.000000</td>\n",
       "      <td>5.000000</td>\n",
       "      <td>5.000000</td>\n",
       "      <td>7.000000</td>\n",
       "      <td>7.000000</td>\n",
       "      <td>7.000000</td>\n",
       "      <td>7.000000</td>\n",
       "      <td>7.000000</td>\n",
       "      <td>7.000000</td>\n",
       "      <td>...</td>\n",
       "      <td>7.000000</td>\n",
       "      <td>7.000000</td>\n",
       "      <td>7.000000</td>\n",
       "      <td>7.000000</td>\n",
       "      <td>7.000000</td>\n",
       "      <td>7.000000</td>\n",
       "      <td>7.000000</td>\n",
       "      <td>7.000000</td>\n",
       "      <td>7.000000</td>\n",
       "      <td>7.000000</td>\n",
       "    </tr>\n",
       "  </tbody>\n",
       "</table>\n",
       "<p>8 rows × 36 columns</p>\n",
       "</div>"
      ],
      "text/plain": [
       "              age      gender  apps_conversations  apps_match         AS1  \\\n",
       "count  194.000000  194.000000          194.000000  194.000000  194.000000   \n",
       "mean     2.469072    0.592784            2.618557    2.989691    4.664948   \n",
       "std      1.003399    0.492587            1.151195    1.077272    1.405433   \n",
       "min      1.000000    0.000000            1.000000    1.000000    1.000000   \n",
       "25%      2.000000    0.000000            2.000000    2.000000    4.000000   \n",
       "50%      2.000000    1.000000            2.000000    3.000000    5.000000   \n",
       "75%      3.000000    1.000000            3.000000    3.000000    6.000000   \n",
       "max      5.000000    1.000000            5.000000    5.000000    7.000000   \n",
       "\n",
       "              AS2         AS3         AT1         AT2  app_social  ...  \\\n",
       "count  194.000000  194.000000  194.000000  194.000000  194.000000  ...   \n",
       "mean     4.644330    4.149485    4.015464    4.144330    4.486254  ...   \n",
       "std      1.440457    1.528088    1.367562    1.414138    1.289917  ...   \n",
       "min      1.000000    1.000000    1.000000    1.000000    1.000000  ...   \n",
       "25%      4.000000    3.000000    3.000000    3.000000    3.666667  ...   \n",
       "50%      5.000000    5.000000    4.000000    4.000000    4.666667  ...   \n",
       "75%      6.000000    5.000000    5.000000    5.000000    5.333333  ...   \n",
       "max      7.000000    7.000000    7.000000    7.000000    7.000000  ...   \n",
       "\n",
       "              OS3         OT1         OT2  online_social  online_trust  \\\n",
       "count  194.000000  194.000000  194.000000     194.000000    194.000000   \n",
       "mean     4.520619    4.139175    4.257732       4.701031      4.198454   \n",
       "std      1.377874    1.416487    1.441634       1.190042      1.364064   \n",
       "min      1.000000    1.000000    1.000000       1.000000      1.000000   \n",
       "25%      4.000000    3.000000    3.000000       4.000000      3.500000   \n",
       "50%      5.000000    4.000000    4.000000       5.000000      4.000000   \n",
       "75%      5.000000    5.000000    5.000000       5.333333      5.000000   \n",
       "max      7.000000    7.000000    7.000000       7.000000      7.000000   \n",
       "\n",
       "       online_social_trust  online_ease  covid_apps_more  covid_physical_more  \\\n",
       "count           194.000000   194.000000       194.000000           194.000000   \n",
       "mean              4.500000     3.314433         3.432990             2.355670   \n",
       "std               1.139084     1.792066         1.862681             1.679592   \n",
       "min               1.000000     1.000000         1.000000             1.000000   \n",
       "25%               3.850000     2.000000         2.000000             1.000000   \n",
       "50%               4.600000     3.000000         3.000000             2.000000   \n",
       "75%               5.200000     5.000000         5.000000             3.000000   \n",
       "max               7.000000     7.000000         7.000000             7.000000   \n",
       "\n",
       "       covid_online_more  \n",
       "count         194.000000  \n",
       "mean            4.783505  \n",
       "std             1.707811  \n",
       "min             1.000000  \n",
       "25%             4.000000  \n",
       "50%             5.000000  \n",
       "75%             6.000000  \n",
       "max             7.000000  \n",
       "\n",
       "[8 rows x 36 columns]"
      ]
     },
     "execution_count": 3,
     "metadata": {},
     "output_type": "execute_result"
    }
   ],
   "source": [
    "processed = processed.dropna() # drop all participants who did not answer at lesat one question\n",
    "\n",
    "processed.describe() # 194 responses remain"
   ]
  },
  {
   "cell_type": "markdown",
   "metadata": {},
   "source": [
    "### Add the multi-select responses"
   ]
  },
  {
   "cell_type": "code",
   "execution_count": 4,
   "metadata": {},
   "outputs": [],
   "source": [
    "# apps used\n",
    "processed['apps_used'] = data['Q3']\n",
    "processed['used_tinder'] = data['Q3_tinder']\n",
    "processed['used_bumble'] = data['Q3_bumble']\n",
    "processed['used_match'] = data['Q3_match']\n",
    "processed['used_pof'] = data['Q3_pof']\n",
    "processed['used_okcupid'] = data['Q3_okcupid']\n",
    "processed['used_hinge'] = data['Q3_hinge']\n",
    "processed['used_clover'] = data['Q3_clover']\n",
    "processed['used_grindr'] = data['Q3_grindr']\n",
    "processed['used_coffeebean'] = data['Q3_coffeebean']\n",
    "processed['used_meetme'] = data['Q3_meetme']\n",
    "processed['used_eharmony'] = data['Q3_eharmony']\n",
    "processed['used_jda'] = data['Q3_jda']\n",
    "processed['used_aff'] = data['Q3_aff']\n",
    "processed['used_facebook_dating'] = data['Q3_facebook_dating']\n",
    "processed['used_none'] = data['Q3_never_used']\n",
    "\n",
    "# affordances\n",
    "processed['apps_purposes'] = data['Q5']\n",
    "processed['affordance_short_term'] = data['Q5_short_term']\n",
    "processed['affordance_long_term'] = data['Q5_long_term']\n",
    "processed['affordance_friendship'] = data['Q5_friendship']\n",
    "processed['affordance_validation'] = data['Q5_validation']\n",
    "processed['affordance_entertainment'] = data['Q5_entertainment']\n",
    "processed['affordance_other'] = data['Q5_other']\n",
    "processed['affordance_never_used'] = data['Q5_never_used']"
   ]
  },
  {
   "cell_type": "code",
   "execution_count": 5,
   "metadata": {},
   "outputs": [
    {
     "data": {
      "text/html": [
       "<div>\n",
       "<style scoped>\n",
       "    .dataframe tbody tr th:only-of-type {\n",
       "        vertical-align: middle;\n",
       "    }\n",
       "\n",
       "    .dataframe tbody tr th {\n",
       "        vertical-align: top;\n",
       "    }\n",
       "\n",
       "    .dataframe thead th {\n",
       "        text-align: right;\n",
       "    }\n",
       "</style>\n",
       "<table border=\"1\" class=\"dataframe\">\n",
       "  <thead>\n",
       "    <tr style=\"text-align: right;\">\n",
       "      <th></th>\n",
       "      <th>age</th>\n",
       "      <th>gender</th>\n",
       "      <th>apps_used</th>\n",
       "      <th>apps_purposes</th>\n",
       "      <th>apps_conversations</th>\n",
       "      <th>apps_match</th>\n",
       "      <th>AS1</th>\n",
       "      <th>AS2</th>\n",
       "      <th>AS3</th>\n",
       "      <th>AT1</th>\n",
       "      <th>...</th>\n",
       "      <th>used_aff</th>\n",
       "      <th>used_facebook_dating</th>\n",
       "      <th>used_none</th>\n",
       "      <th>affordance_short_term</th>\n",
       "      <th>affordance_long_term</th>\n",
       "      <th>affordance_friendship</th>\n",
       "      <th>affordance_validation</th>\n",
       "      <th>affordance_entertainment</th>\n",
       "      <th>affordance_other</th>\n",
       "      <th>affordance_never_used</th>\n",
       "    </tr>\n",
       "  </thead>\n",
       "  <tbody>\n",
       "    <tr>\n",
       "      <th>0</th>\n",
       "      <td>3</td>\n",
       "      <td>1</td>\n",
       "      <td>Tinder,Plenty of Fish</td>\n",
       "      <td>Finding short-term romantic or sexual relation...</td>\n",
       "      <td>2</td>\n",
       "      <td>2</td>\n",
       "      <td>5.0</td>\n",
       "      <td>5</td>\n",
       "      <td>2.0</td>\n",
       "      <td>3</td>\n",
       "      <td>...</td>\n",
       "      <td>0</td>\n",
       "      <td>0</td>\n",
       "      <td>0</td>\n",
       "      <td>1</td>\n",
       "      <td>0</td>\n",
       "      <td>0</td>\n",
       "      <td>0</td>\n",
       "      <td>0</td>\n",
       "      <td>0</td>\n",
       "      <td>0</td>\n",
       "    </tr>\n",
       "    <tr>\n",
       "      <th>1</th>\n",
       "      <td>2</td>\n",
       "      <td>1</td>\n",
       "      <td>Plenty of Fish</td>\n",
       "      <td>Finding long-term romantic or sexual relations...</td>\n",
       "      <td>3</td>\n",
       "      <td>3</td>\n",
       "      <td>6.0</td>\n",
       "      <td>7</td>\n",
       "      <td>7.0</td>\n",
       "      <td>6</td>\n",
       "      <td>...</td>\n",
       "      <td>0</td>\n",
       "      <td>0</td>\n",
       "      <td>0</td>\n",
       "      <td>0</td>\n",
       "      <td>1</td>\n",
       "      <td>0</td>\n",
       "      <td>0</td>\n",
       "      <td>0</td>\n",
       "      <td>0</td>\n",
       "      <td>0</td>\n",
       "    </tr>\n",
       "    <tr>\n",
       "      <th>2</th>\n",
       "      <td>2</td>\n",
       "      <td>0</td>\n",
       "      <td>Tinder,Bumble,Match,Plenty of Fish,OKCupid,Grindr</td>\n",
       "      <td>Finding short-term romantic or sexual relation...</td>\n",
       "      <td>2</td>\n",
       "      <td>2</td>\n",
       "      <td>6.0</td>\n",
       "      <td>6</td>\n",
       "      <td>5.0</td>\n",
       "      <td>5</td>\n",
       "      <td>...</td>\n",
       "      <td>0</td>\n",
       "      <td>0</td>\n",
       "      <td>0</td>\n",
       "      <td>1</td>\n",
       "      <td>1</td>\n",
       "      <td>0</td>\n",
       "      <td>0</td>\n",
       "      <td>0</td>\n",
       "      <td>0</td>\n",
       "      <td>0</td>\n",
       "    </tr>\n",
       "    <tr>\n",
       "      <th>3</th>\n",
       "      <td>3</td>\n",
       "      <td>1</td>\n",
       "      <td>Tinder</td>\n",
       "      <td>Finding short-term romantic or sexual relation...</td>\n",
       "      <td>2</td>\n",
       "      <td>3</td>\n",
       "      <td>6.0</td>\n",
       "      <td>5</td>\n",
       "      <td>5.0</td>\n",
       "      <td>4</td>\n",
       "      <td>...</td>\n",
       "      <td>0</td>\n",
       "      <td>0</td>\n",
       "      <td>0</td>\n",
       "      <td>1</td>\n",
       "      <td>1</td>\n",
       "      <td>0</td>\n",
       "      <td>0</td>\n",
       "      <td>1</td>\n",
       "      <td>0</td>\n",
       "      <td>0</td>\n",
       "    </tr>\n",
       "    <tr>\n",
       "      <th>4</th>\n",
       "      <td>2</td>\n",
       "      <td>1</td>\n",
       "      <td>Tinder,Bumble,OKCupid</td>\n",
       "      <td>Finding short-term romantic or sexual relation...</td>\n",
       "      <td>3</td>\n",
       "      <td>2</td>\n",
       "      <td>3.0</td>\n",
       "      <td>3</td>\n",
       "      <td>3.0</td>\n",
       "      <td>5</td>\n",
       "      <td>...</td>\n",
       "      <td>0</td>\n",
       "      <td>0</td>\n",
       "      <td>0</td>\n",
       "      <td>1</td>\n",
       "      <td>1</td>\n",
       "      <td>1</td>\n",
       "      <td>0</td>\n",
       "      <td>0</td>\n",
       "      <td>0</td>\n",
       "      <td>0</td>\n",
       "    </tr>\n",
       "  </tbody>\n",
       "</table>\n",
       "<p>5 rows × 60 columns</p>\n",
       "</div>"
      ],
      "text/plain": [
       "   age  gender                                          apps_used  \\\n",
       "0    3       1                              Tinder,Plenty of Fish   \n",
       "1    2       1                                     Plenty of Fish   \n",
       "2    2       0  Tinder,Bumble,Match,Plenty of Fish,OKCupid,Grindr   \n",
       "3    3       1                                             Tinder   \n",
       "4    2       1                              Tinder,Bumble,OKCupid   \n",
       "\n",
       "                                       apps_purposes  apps_conversations  \\\n",
       "0  Finding short-term romantic or sexual relation...                   2   \n",
       "1  Finding long-term romantic or sexual relations...                   3   \n",
       "2  Finding short-term romantic or sexual relation...                   2   \n",
       "3  Finding short-term romantic or sexual relation...                   2   \n",
       "4  Finding short-term romantic or sexual relation...                   3   \n",
       "\n",
       "   apps_match  AS1  AS2  AS3  AT1  ...  used_aff  used_facebook_dating  \\\n",
       "0           2  5.0    5  2.0    3  ...         0                     0   \n",
       "1           3  6.0    7  7.0    6  ...         0                     0   \n",
       "2           2  6.0    6  5.0    5  ...         0                     0   \n",
       "3           3  6.0    5  5.0    4  ...         0                     0   \n",
       "4           2  3.0    3  3.0    5  ...         0                     0   \n",
       "\n",
       "   used_none  affordance_short_term  affordance_long_term  \\\n",
       "0          0                      1                     0   \n",
       "1          0                      0                     1   \n",
       "2          0                      1                     1   \n",
       "3          0                      1                     1   \n",
       "4          0                      1                     1   \n",
       "\n",
       "   affordance_friendship  affordance_validation  affordance_entertainment  \\\n",
       "0                      0                      0                         0   \n",
       "1                      0                      0                         0   \n",
       "2                      0                      0                         0   \n",
       "3                      0                      0                         1   \n",
       "4                      1                      0                         0   \n",
       "\n",
       "   affordance_other  affordance_never_used  \n",
       "0                 0                      0  \n",
       "1                 0                      0  \n",
       "2                 0                      0  \n",
       "3                 0                      0  \n",
       "4                 0                      0  \n",
       "\n",
       "[5 rows x 60 columns]"
      ]
     },
     "execution_count": 5,
     "metadata": {},
     "output_type": "execute_result"
    }
   ],
   "source": [
    "processed.head()"
   ]
  },
  {
   "cell_type": "markdown",
   "metadata": {},
   "source": [
    "### Factor analysis\n",
    "Factor analysis is a technique for discovering whether items accurately reflect latent variables. The technique is described well in an IS context by Gefen (2000). We want to find the best way to analyze this multi-item instrument.\n",
    "\n",
    "We will start by conducting Kaiser-Meyer-Olkin tests to determine whether the data are appropriate for factor analysis. They all exceed the threshold of 0.6, which is good."
   ]
  },
  {
   "cell_type": "code",
   "execution_count": 6,
   "metadata": {},
   "outputs": [],
   "source": [
    "from factor_analyzer import FactorAnalyzer # this is a tool for doing factor analysis"
   ]
  },
  {
   "cell_type": "code",
   "execution_count": 7,
   "metadata": {},
   "outputs": [
    {
     "data": {
      "text/plain": [
       "0.7755141059515429"
      ]
     },
     "execution_count": 7,
     "metadata": {},
     "output_type": "execute_result"
    }
   ],
   "source": [
    "from factor_analyzer.factor_analyzer import calculate_kmo\n",
    "\n",
    "sub = processed[['AS1', 'AS2', 'AS3', 'AT1', 'AT2', 'app_ease']]\n",
    "kmo_all,kmo_model=calculate_kmo(sub)\n",
    "\n",
    "kmo_model"
   ]
  },
  {
   "cell_type": "code",
   "execution_count": 8,
   "metadata": {},
   "outputs": [
    {
     "data": {
      "text/plain": [
       "array([[ 0.76472948,  0.39066154, -0.05991361],\n",
       "       [ 0.65127483,  0.25366251,  0.00553988],\n",
       "       [ 0.84884792,  0.33970503, -0.00418231],\n",
       "       [ 0.78383102, -0.45702363, -0.22205378],\n",
       "       [ 0.85168913, -0.48444838,  0.17189562],\n",
       "       [ 0.51068043,  0.03625829,  0.1437511 ]])"
      ]
     },
     "execution_count": 8,
     "metadata": {},
     "output_type": "execute_result"
    }
   ],
   "source": [
    "fa = FactorAnalyzer(bounds=(0.005, 1), impute='median', is_corr_matrix=False,\n",
    "        method='minres', n_factors=3, rotation=None, rotation_kwargs={},\n",
    "        use_smc=True)\n",
    "fa.fit(sub)\n",
    "fa.loadings_"
   ]
  },
  {
   "cell_type": "code",
   "execution_count": 9,
   "metadata": {},
   "outputs": [
    {
     "data": {
      "text/plain": [
       "0.6913716343410924"
      ]
     },
     "execution_count": 9,
     "metadata": {},
     "output_type": "execute_result"
    }
   ],
   "source": [
    "sub = processed[['PS1', 'PS2','PS3', 'PT1', 'PT2', 'physical_ease']]\n",
    "kmo_all,kmo_model=calculate_kmo(sub)\n",
    "\n",
    "kmo_model"
   ]
  },
  {
   "cell_type": "code",
   "execution_count": 10,
   "metadata": {},
   "outputs": [
    {
     "data": {
      "text/html": [
       "<div>\n",
       "<style scoped>\n",
       "    .dataframe tbody tr th:only-of-type {\n",
       "        vertical-align: middle;\n",
       "    }\n",
       "\n",
       "    .dataframe tbody tr th {\n",
       "        vertical-align: top;\n",
       "    }\n",
       "\n",
       "    .dataframe thead th {\n",
       "        text-align: right;\n",
       "    }\n",
       "</style>\n",
       "<table border=\"1\" class=\"dataframe\">\n",
       "  <thead>\n",
       "    <tr style=\"text-align: right;\">\n",
       "      <th></th>\n",
       "      <th>PS1</th>\n",
       "      <th>PS2</th>\n",
       "      <th>PS3</th>\n",
       "      <th>PT1</th>\n",
       "      <th>PT2</th>\n",
       "      <th>physical_ease</th>\n",
       "    </tr>\n",
       "  </thead>\n",
       "  <tbody>\n",
       "    <tr>\n",
       "      <th>PS1</th>\n",
       "      <td>1.000000</td>\n",
       "      <td>0.363989</td>\n",
       "      <td>0.653147</td>\n",
       "      <td>0.289067</td>\n",
       "      <td>0.243046</td>\n",
       "      <td>0.104017</td>\n",
       "    </tr>\n",
       "    <tr>\n",
       "      <th>PS2</th>\n",
       "      <td>0.363989</td>\n",
       "      <td>1.000000</td>\n",
       "      <td>0.382708</td>\n",
       "      <td>0.311032</td>\n",
       "      <td>0.233962</td>\n",
       "      <td>0.116929</td>\n",
       "    </tr>\n",
       "    <tr>\n",
       "      <th>PS3</th>\n",
       "      <td>0.653147</td>\n",
       "      <td>0.382708</td>\n",
       "      <td>1.000000</td>\n",
       "      <td>0.423966</td>\n",
       "      <td>0.395626</td>\n",
       "      <td>0.179319</td>\n",
       "    </tr>\n",
       "    <tr>\n",
       "      <th>PT1</th>\n",
       "      <td>0.289067</td>\n",
       "      <td>0.311032</td>\n",
       "      <td>0.423966</td>\n",
       "      <td>1.000000</td>\n",
       "      <td>0.864921</td>\n",
       "      <td>0.436759</td>\n",
       "    </tr>\n",
       "    <tr>\n",
       "      <th>PT2</th>\n",
       "      <td>0.243046</td>\n",
       "      <td>0.233962</td>\n",
       "      <td>0.395626</td>\n",
       "      <td>0.864921</td>\n",
       "      <td>1.000000</td>\n",
       "      <td>0.457776</td>\n",
       "    </tr>\n",
       "    <tr>\n",
       "      <th>physical_ease</th>\n",
       "      <td>0.104017</td>\n",
       "      <td>0.116929</td>\n",
       "      <td>0.179319</td>\n",
       "      <td>0.436759</td>\n",
       "      <td>0.457776</td>\n",
       "      <td>1.000000</td>\n",
       "    </tr>\n",
       "  </tbody>\n",
       "</table>\n",
       "</div>"
      ],
      "text/plain": [
       "                    PS1       PS2       PS3       PT1       PT2  physical_ease\n",
       "PS1            1.000000  0.363989  0.653147  0.289067  0.243046       0.104017\n",
       "PS2            0.363989  1.000000  0.382708  0.311032  0.233962       0.116929\n",
       "PS3            0.653147  0.382708  1.000000  0.423966  0.395626       0.179319\n",
       "PT1            0.289067  0.311032  0.423966  1.000000  0.864921       0.436759\n",
       "PT2            0.243046  0.233962  0.395626  0.864921  1.000000       0.457776\n",
       "physical_ease  0.104017  0.116929  0.179319  0.436759  0.457776       1.000000"
      ]
     },
     "execution_count": 10,
     "metadata": {},
     "output_type": "execute_result"
    }
   ],
   "source": [
    "sub.corr()"
   ]
  },
  {
   "cell_type": "code",
   "execution_count": 11,
   "metadata": {},
   "outputs": [
    {
     "name": "stdout",
     "output_type": "stream",
     "text": [
      "                                 OLS Regression Results                                \n",
      "=======================================================================================\n",
      "Dep. Variable:          physical_ease   R-squared (uncentered):                   0.904\n",
      "Model:                            OLS   Adj. R-squared (uncentered):              0.902\n",
      "Method:                 Least Squares   F-statistic:                              357.1\n",
      "Date:                Fri, 26 Feb 2021   Prob (F-statistic):                    3.06e-94\n",
      "Time:                        09:22:05   Log-Likelihood:                         -346.34\n",
      "No. Observations:                 194   AIC:                                      702.7\n",
      "Df Residuals:                     189   BIC:                                      719.0\n",
      "Df Model:                           5                                                  \n",
      "Covariance Type:            nonrobust                                                  \n",
      "==============================================================================\n",
      "                 coef    std err          t      P>|t|      [0.025      0.975]\n",
      "------------------------------------------------------------------------------\n",
      "PS1            0.1141      0.135      0.844      0.400      -0.153       0.381\n",
      "PS2            0.0559      0.091      0.612      0.541      -0.124       0.236\n",
      "PS3            0.0459      0.148      0.311      0.756      -0.245       0.337\n",
      "PT1            0.1752      0.161      1.089      0.277      -0.142       0.492\n",
      "PT2            0.4473      0.157      2.854      0.005       0.138       0.756\n",
      "==============================================================================\n",
      "Omnibus:                        1.432   Durbin-Watson:                   1.977\n",
      "Prob(Omnibus):                  0.489   Jarque-Bera (JB):                1.458\n",
      "Skew:                          -0.204   Prob(JB):                        0.482\n",
      "Kurtosis:                       2.882   Cond. No.                         25.6\n",
      "==============================================================================\n",
      "\n",
      "Notes:\n",
      "[1] R² is computed without centering (uncentered) since the model does not contain a constant.\n",
      "[2] Standard Errors assume that the covariance matrix of the errors is correctly specified.\n"
     ]
    }
   ],
   "source": [
    "reg1 = sm.OLS(endog=processed['physical_ease'], exog=processed[['PS1', 'PS2', 'PS3', 'PT1', 'PT2']], \\\n",
    "    missing='drop')\n",
    "results = reg1.fit()\n",
    "print(results.summary())"
   ]
  },
  {
   "cell_type": "code",
   "execution_count": 12,
   "metadata": {},
   "outputs": [
    {
     "data": {
      "text/plain": [
       "array([[ 0.55820471,  0.57102252, -0.0448114 ],\n",
       "       [ 0.42185453,  0.24180422,  0.21395589],\n",
       "       [ 0.68148737,  0.47080271, -0.08693039],\n",
       "       [ 0.86577094, -0.33058417,  0.12029637],\n",
       "       [ 0.85527686, -0.41967677, -0.11862902],\n",
       "       [ 0.41954422, -0.2298918 , -0.02071487]])"
      ]
     },
     "execution_count": 12,
     "metadata": {},
     "output_type": "execute_result"
    }
   ],
   "source": [
    "fa = FactorAnalyzer(bounds=(0.005, 1), impute='median', is_corr_matrix=False,\n",
    "        method='minres', n_factors=3, rotation=None, rotation_kwargs={},\n",
    "        use_smc=True)\n",
    "fa.fit(sub)\n",
    "fa.loadings_"
   ]
  },
  {
   "cell_type": "code",
   "execution_count": 13,
   "metadata": {},
   "outputs": [
    {
     "data": {
      "text/plain": [
       "0.8170518768883112"
      ]
     },
     "execution_count": 13,
     "metadata": {},
     "output_type": "execute_result"
    }
   ],
   "source": [
    "sub = processed[['OS1', 'OS2', 'OS3', 'OT1', 'OT2', 'online_ease']]\n",
    "kmo_all,kmo_model=calculate_kmo(sub)\n",
    "\n",
    "kmo_model"
   ]
  },
  {
   "cell_type": "code",
   "execution_count": 14,
   "metadata": {},
   "outputs": [
    {
     "data": {
      "text/plain": [
       "array([[ 0.78193846, -0.21599378,  0.03035906],\n",
       "       [ 0.78884211, -0.34057493,  0.30302524],\n",
       "       [ 0.90945485, -0.26172753, -0.31568071],\n",
       "       [ 0.76531381,  0.45607909, -0.03119061],\n",
       "       [ 0.82948235,  0.41728386,  0.09348305],\n",
       "       [ 0.49421445, -0.03963898, -0.05939237]])"
      ]
     },
     "execution_count": 14,
     "metadata": {},
     "output_type": "execute_result"
    }
   ],
   "source": [
    "fa = FactorAnalyzer(bounds=(0.005, 1), impute='median', is_corr_matrix=False,\n",
    "        method='minres', n_factors=3, rotation=None, rotation_kwargs={},\n",
    "        use_smc=True)\n",
    "fa.fit(sub)\n",
    "fa.loadings_"
   ]
  },
  {
   "cell_type": "markdown",
   "metadata": {},
   "source": [
    "### Demographics"
   ]
  },
  {
   "cell_type": "code",
   "execution_count": 15,
   "metadata": {},
   "outputs": [
    {
     "data": {
      "text/plain": [
       "<AxesSubplot:>"
      ]
     },
     "execution_count": 15,
     "metadata": {},
     "output_type": "execute_result"
    },
    {
     "data": {
      "image/png": "[encoded data removed]",
      "text/plain": [
       "<Figure size 432x288 with 1 Axes>"
      ]
     },
     "metadata": {},
     "output_type": "display_data"
    }
   ],
   "source": [
    "processed['age'].hist(bins=5)"
   ]
  },
  {
   "cell_type": "code",
   "execution_count": 16,
   "metadata": {},
   "outputs": [
    {
     "data": {
      "text/plain": [
       "115"
      ]
     },
     "execution_count": 16,
     "metadata": {},
     "output_type": "execute_result"
    }
   ],
   "source": [
    "count = 0\n",
    "for c in processed['gender']:\n",
    "    if c == 1:\n",
    "        count+=1\n",
    "count"
   ]
  },
  {
   "cell_type": "code",
   "execution_count": 17,
   "metadata": {},
   "outputs": [
    {
     "data": {
      "text/plain": [
       "<AxesSubplot:>"
      ]
     },
     "execution_count": 17,
     "metadata": {},
     "output_type": "execute_result"
    },
    {
     "data": {
      "image/png": "[encoded data removed]",
      "text/plain": [
       "<Figure size 432x288 with 1 Axes>"
      ]
     },
     "metadata": {},
     "output_type": "display_data"
    }
   ],
   "source": [
    "processed['app_hours'].hist(bins=5)"
   ]
  },
  {
   "cell_type": "markdown",
   "metadata": {},
   "source": [
    "## Digging into Gabriel Observations\n",
    "\n",
    "Here are some functions to help us with bar graphs."
   ]
  },
  {
   "cell_type": "code",
   "execution_count": 18,
   "metadata": {},
   "outputs": [],
   "source": [
    "def mean_confidence_interval(data, confidence=0.95):\n",
    "    a = 1.0 * np.array(data)\n",
    "    n = len(a)\n",
    "    m, se = np.mean(a), stats.sem(a)\n",
    "    h = se * stats.t.ppf((1 + confidence) / 2., n-1)\n",
    "    return m, m-h, m+h\n",
    "\n",
    "def convertDataFrame(name, app, physical, online):\n",
    "    d = {\n",
    "        \"Dating style\": [\"Dating Apps\", \"Physical Group\", \"Online Communities\"],\n",
    "        name: [app[0], physical[0], online[0]],\n",
    "        \"CI Low\": [app[1], physical[1], online[1]],\n",
    "        \"CI High\": [app[2], physical[2], online[2]]\n",
    "    }\n",
    "    return(d)\n",
    "\n",
    "def generateGraph(measure, means):\n",
    "    g = sns.catplot(\n",
    "        data=means, kind=\"bar\",\n",
    "        x=measure, y=\"Dating style\",\n",
    "        ci=None, height=5, aspect=2\n",
    "    )\n",
    "\n",
    "    xerr = [means[measure] - means['CI Low'], means['CI High'] - means[measure]]\n",
    "    plt.errorbar(x=means[measure], y=[0,1,2], xerr=xerr, fmt='none', c='black')\n",
    "\n",
    "    g.despine(left=True)\n",
    "    g.set_axis_labels(measure + \"(mean)\", \"Dating Style\")\n",
    "    #g.legend.set_title(\"Awesome\")\n"
   ]
  },
  {
   "cell_type": "markdown",
   "metadata": {},
   "source": [
    "## Test for social presence\n",
    "Physical groups see more social presence. The others are not significantly different."
   ]
  },
  {
   "cell_type": "code",
   "execution_count": 19,
   "metadata": {},
   "outputs": [
    {
     "data": {
      "image/png": "[encoded data removed]",
      "text/plain": [
       "<Figure size 720x360 with 1 Axes>"
      ]
     },
     "metadata": {},
     "output_type": "display_data"
    }
   ],
   "source": [
    "app_social = mean_confidence_interval(processed['app_social'])\n",
    "physical_social = mean_confidence_interval(processed['physical_social'])\n",
    "online_social = mean_confidence_interval(processed['online_social'])\n",
    "\n",
    "means = pd.DataFrame(data=convertDataFrame(\"Social Presence\", app_social, physical_social, online_social))\n",
    "means\n",
    "\n",
    "generateGraph(\"Social Presence\", means)"
   ]
  },
  {
   "cell_type": "markdown",
   "metadata": {},
   "source": [
    "### Test for trust\n",
    "We see the same thing for trust. This is why we should understand the constructs as one."
   ]
  },
  {
   "cell_type": "code",
   "execution_count": 20,
   "metadata": {},
   "outputs": [
    {
     "data": {
      "image/png": "[encoded data removed]",
      "text/plain": [
       "<Figure size 720x360 with 1 Axes>"
      ]
     },
     "metadata": {},
     "output_type": "display_data"
    }
   ],
   "source": [
    "app_social = mean_confidence_interval(processed['app_trust'])\n",
    "physical_social = mean_confidence_interval(processed['physical_trust'])\n",
    "online_social = mean_confidence_interval(processed['online_trust'])\n",
    "\n",
    "means = pd.DataFrame(data=convertDataFrame(\"Trust\", app_social, physical_social, online_social))\n",
    "means\n",
    "\n",
    "generateGraph(\"Trust\", means)"
   ]
  },
  {
   "cell_type": "code",
   "execution_count": 21,
   "metadata": {},
   "outputs": [
    {
     "data": {
      "image/png": "[encoded data removed]",
      "text/plain": [
       "<Figure size 720x360 with 1 Axes>"
      ]
     },
     "metadata": {},
     "output_type": "display_data"
    }
   ],
   "source": [
    "app_social = mean_confidence_interval(processed['app_social_trust'])\n",
    "physical_social = mean_confidence_interval(processed['physical_social_trust'])\n",
    "online_social = mean_confidence_interval(processed['online_social_trust'])\n",
    "\n",
    "means = pd.DataFrame(data=convertDataFrame(\"Social Trust\", app_social, physical_social, online_social))\n",
    "means\n",
    "\n",
    "generateGraph(\"Social Trust\", means)"
   ]
  },
  {
   "cell_type": "markdown",
   "metadata": {},
   "source": [
    "## Apps Used"
   ]
  },
  {
   "cell_type": "code",
   "execution_count": 22,
   "metadata": {},
   "outputs": [
    {
     "data": {
      "text/html": [
       "<div>\n",
       "<style scoped>\n",
       "    .dataframe tbody tr th:only-of-type {\n",
       "        vertical-align: middle;\n",
       "    }\n",
       "\n",
       "    .dataframe tbody tr th {\n",
       "        vertical-align: top;\n",
       "    }\n",
       "\n",
       "    .dataframe thead th {\n",
       "        text-align: right;\n",
       "    }\n",
       "</style>\n",
       "<table border=\"1\" class=\"dataframe\">\n",
       "  <thead>\n",
       "    <tr style=\"text-align: right;\">\n",
       "      <th></th>\n",
       "      <th>Dating Apps Used</th>\n",
       "      <th>Number Reported</th>\n",
       "    </tr>\n",
       "  </thead>\n",
       "  <tbody>\n",
       "    <tr>\n",
       "      <th>0</th>\n",
       "      <td>Tinder</td>\n",
       "      <td>115</td>\n",
       "    </tr>\n",
       "    <tr>\n",
       "      <th>1</th>\n",
       "      <td>Bumble</td>\n",
       "      <td>49</td>\n",
       "    </tr>\n",
       "    <tr>\n",
       "      <th>2</th>\n",
       "      <td>Match</td>\n",
       "      <td>64</td>\n",
       "    </tr>\n",
       "    <tr>\n",
       "      <th>3</th>\n",
       "      <td>Plenty of Fish</td>\n",
       "      <td>64</td>\n",
       "    </tr>\n",
       "    <tr>\n",
       "      <th>4</th>\n",
       "      <td>OK Cupid</td>\n",
       "      <td>72</td>\n",
       "    </tr>\n",
       "    <tr>\n",
       "      <th>5</th>\n",
       "      <td>Hinge</td>\n",
       "      <td>16</td>\n",
       "    </tr>\n",
       "    <tr>\n",
       "      <th>6</th>\n",
       "      <td>Clover</td>\n",
       "      <td>2</td>\n",
       "    </tr>\n",
       "    <tr>\n",
       "      <th>7</th>\n",
       "      <td>Grindr</td>\n",
       "      <td>24</td>\n",
       "    </tr>\n",
       "    <tr>\n",
       "      <th>8</th>\n",
       "      <td>Coffee &amp; Bean</td>\n",
       "      <td>15</td>\n",
       "    </tr>\n",
       "    <tr>\n",
       "      <th>9</th>\n",
       "      <td>MeetMe</td>\n",
       "      <td>28</td>\n",
       "    </tr>\n",
       "    <tr>\n",
       "      <th>10</th>\n",
       "      <td>eHarmony</td>\n",
       "      <td>2</td>\n",
       "    </tr>\n",
       "    <tr>\n",
       "      <th>11</th>\n",
       "      <td>JDA</td>\n",
       "      <td>4</td>\n",
       "    </tr>\n",
       "    <tr>\n",
       "      <th>12</th>\n",
       "      <td>AFF</td>\n",
       "      <td>1</td>\n",
       "    </tr>\n",
       "    <tr>\n",
       "      <th>13</th>\n",
       "      <td>Facebook Dating</td>\n",
       "      <td>1</td>\n",
       "    </tr>\n",
       "    <tr>\n",
       "      <th>14</th>\n",
       "      <td>Never Used</td>\n",
       "      <td>8</td>\n",
       "    </tr>\n",
       "  </tbody>\n",
       "</table>\n",
       "</div>"
      ],
      "text/plain": [
       "   Dating Apps Used  Number Reported\n",
       "0            Tinder              115\n",
       "1            Bumble               49\n",
       "2             Match               64\n",
       "3    Plenty of Fish               64\n",
       "4          OK Cupid               72\n",
       "5             Hinge               16\n",
       "6            Clover                2\n",
       "7            Grindr               24\n",
       "8     Coffee & Bean               15\n",
       "9            MeetMe               28\n",
       "10         eHarmony                2\n",
       "11              JDA                4\n",
       "12              AFF                1\n",
       "13  Facebook Dating                1\n",
       "14       Never Used                8"
      ]
     },
     "execution_count": 22,
     "metadata": {},
     "output_type": "execute_result"
    }
   ],
   "source": [
    "d = {\n",
    "        \"Dating Apps Used\": [\n",
    "            \"Tinder\", \n",
    "            \"Bumble\", \n",
    "            \"Match\",\n",
    "            \"Plenty of Fish\",\n",
    "            \"OK Cupid\",\n",
    "            \"Hinge\",\n",
    "            \"Clover\",\n",
    "            \"Grindr\",\n",
    "            \"Coffee & Bean\",\n",
    "            \"MeetMe\",\n",
    "            \"eHarmony\",\n",
    "            \"JDA\",\n",
    "            \"AFF\",\n",
    "            \"Facebook Dating\",\n",
    "            \"Never Used\"\n",
    "        ],\n",
    "        \"Number Reported\": [\n",
    "            len(processed[processed[\"used_tinder\"] == 1]),\n",
    "            len(processed[processed[\"used_bumble\"] == 1]),\n",
    "            len(processed[processed[\"used_match\"] == 1]),\n",
    "            len(processed[processed[\"used_pof\"] == 1]),\n",
    "            len(processed[processed[\"used_okcupid\"] == 1]),\n",
    "            len(processed[processed[\"used_hinge\"] == 1]),\n",
    "            len(processed[processed[\"used_clover\"] == 1]),\n",
    "            len(processed[processed[\"used_grindr\"] == 1]),\n",
    "            len(processed[processed[\"used_coffeebean\"] == 1]),\n",
    "            len(processed[processed[\"used_meetme\"] == 1]),\n",
    "            len(processed[processed[\"used_eharmony\"] == 1]),\n",
    "            len(processed[processed[\"used_jda\"] == 1]),\n",
    "            len(processed[processed[\"used_aff\"] == 1]),\n",
    "            len(processed[processed[\"used_facebook_dating\"] == 1]),\n",
    "            len(processed[processed[\"used_none\"] == 1])\n",
    "        ]\n",
    "    }\n",
    "\n",
    "counts = pd.DataFrame(data=d)\n",
    "counts"
   ]
  },
  {
   "cell_type": "code",
   "execution_count": 23,
   "metadata": {
    "scrolled": false
   },
   "outputs": [
    {
     "data": {
      "image/png": "[encoded data removed]",
      "text/plain": [
       "<Figure size 450x360 with 1 Axes>"
      ]
     },
     "metadata": {},
     "output_type": "display_data"
    }
   ],
   "source": [
    "clean_counts = counts.sort_values(by=\"Number Reported\", ascending=False) # let's remove those that are fewer than \"Never used\"\n",
    "clean_counts = clean_counts[clean_counts[\"Number Reported\"] > 10]\n",
    "clean_counts = clean_counts.append({'Dating Apps Used': 'Other', 'Number Reported': 10}, ignore_index=True) # append other\n",
    "\n",
    "g = sns.catplot(\n",
    "        data=clean_counts, kind=\"bar\",\n",
    "        x=\"Number Reported\", y=\"Dating Apps Used\",\n",
    "        height=5, aspect=1.25, color=\"slategray\"\n",
    "    )"
   ]
  },
  {
   "cell_type": "markdown",
   "metadata": {},
   "source": [
    "## Affordances"
   ]
  },
  {
   "cell_type": "code",
   "execution_count": 24,
   "metadata": {},
   "outputs": [
    {
     "ename": "ValueError",
     "evalue": "The truth value of a Series is ambiguous. Use a.empty, a.bool(), a.item(), a.any() or a.all().",
     "output_type": "error",
     "traceback": [
      "\u001b[1;31m---------------------------------------------------------------------------\u001b[0m",
      "\u001b[1;31mValueError\u001b[0m                                Traceback (most recent call last)",
      "\u001b[1;32m<ipython-input-24-165184c25838>\u001b[0m in \u001b[0;36m<module>\u001b[1;34m\u001b[0m\n\u001b[0;32m     10\u001b[0m         ],\n\u001b[0;32m     11\u001b[0m         \"Number Reported\": [\n\u001b[1;32m---> 12\u001b[1;33m             \u001b[0mlen\u001b[0m\u001b[1;33m(\u001b[0m\u001b[0mprocessed\u001b[0m\u001b[1;33m[\u001b[0m\u001b[0mprocessed\u001b[0m\u001b[1;33m[\u001b[0m\u001b[1;34m\"affordance_short_term\"\u001b[0m\u001b[1;33m]\u001b[0m \u001b[1;33m==\u001b[0m \u001b[1;36m1\u001b[0m \u001b[1;32mand\u001b[0m \u001b[0mprocessed\u001b[0m\u001b[1;33m[\u001b[0m\u001b[1;34m\"gender\"\u001b[0m\u001b[1;33m]\u001b[0m \u001b[1;33m==\u001b[0m \u001b[1;36m1\u001b[0m\u001b[1;33m]\u001b[0m\u001b[1;33m)\u001b[0m\u001b[1;33m,\u001b[0m\u001b[1;33m\u001b[0m\u001b[1;33m\u001b[0m\u001b[0m\n\u001b[0m\u001b[0;32m     13\u001b[0m             \u001b[0mlen\u001b[0m\u001b[1;33m(\u001b[0m\u001b[0mprocessed\u001b[0m\u001b[1;33m[\u001b[0m\u001b[0mprocessed\u001b[0m\u001b[1;33m[\u001b[0m\u001b[1;34m\"affordance_long_term\"\u001b[0m\u001b[1;33m]\u001b[0m \u001b[1;33m==\u001b[0m \u001b[1;36m1\u001b[0m\u001b[1;33m]\u001b[0m\u001b[1;33m)\u001b[0m\u001b[1;33m,\u001b[0m\u001b[1;33m\u001b[0m\u001b[1;33m\u001b[0m\u001b[0m\n\u001b[0;32m     14\u001b[0m             \u001b[0mlen\u001b[0m\u001b[1;33m(\u001b[0m\u001b[0mprocessed\u001b[0m\u001b[1;33m[\u001b[0m\u001b[0mprocessed\u001b[0m\u001b[1;33m[\u001b[0m\u001b[1;34m\"affordance_friendship\"\u001b[0m\u001b[1;33m]\u001b[0m \u001b[1;33m==\u001b[0m \u001b[1;36m1\u001b[0m\u001b[1;33m]\u001b[0m\u001b[1;33m)\u001b[0m\u001b[1;33m,\u001b[0m\u001b[1;33m\u001b[0m\u001b[1;33m\u001b[0m\u001b[0m\n",
      "\u001b[1;32m~\\anaconda3\\lib\\site-packages\\pandas\\core\\generic.py\u001b[0m in \u001b[0;36m__nonzero__\u001b[1;34m(self)\u001b[0m\n\u001b[0;32m   1328\u001b[0m     \u001b[1;32mdef\u001b[0m \u001b[0m__nonzero__\u001b[0m\u001b[1;33m(\u001b[0m\u001b[0mself\u001b[0m\u001b[1;33m)\u001b[0m\u001b[1;33m:\u001b[0m\u001b[1;33m\u001b[0m\u001b[1;33m\u001b[0m\u001b[0m\n\u001b[0;32m   1329\u001b[0m         raise ValueError(\n\u001b[1;32m-> 1330\u001b[1;33m             \u001b[1;34mf\"The truth value of a {type(self).__name__} is ambiguous. \"\u001b[0m\u001b[1;33m\u001b[0m\u001b[1;33m\u001b[0m\u001b[0m\n\u001b[0m\u001b[0;32m   1331\u001b[0m             \u001b[1;34m\"Use a.empty, a.bool(), a.item(), a.any() or a.all().\"\u001b[0m\u001b[1;33m\u001b[0m\u001b[1;33m\u001b[0m\u001b[0m\n\u001b[0;32m   1332\u001b[0m         )\n",
      "\u001b[1;31mValueError\u001b[0m: The truth value of a Series is ambiguous. Use a.empty, a.bool(), a.item(), a.any() or a.all()."
     ]
    }
   ],
   "source": [
    "d = {\n",
    "        \"Affordances\": [\n",
    "            \"Short Term Relationships\", \n",
    "            \"Long Term Relationships\", \n",
    "            \"Friendships\",\n",
    "            \"Personal Validation\",\n",
    "            \"Entertainment\",\n",
    "            \"Other Reason\",\n",
    "            \"Never Used\",\n",
    "        ],\n",
    "        \"Number Reported\": [\n",
    "            len(processed[processed[\"affordance_short_term\"] == 1 and processed[\"gender\"] == 1]),\n",
    "            len(processed[processed[\"affordance_long_term\"] == 1]),\n",
    "            len(processed[processed[\"affordance_friendship\"] == 1]),\n",
    "            len(processed[processed[\"affordance_validation\"] == 1]),\n",
    "            len(processed[processed[\"affordance_entertainment\"] == 1]),\n",
    "            len(processed[processed[\"affordance_other\"] == 1]),\n",
    "            len(processed[processed[\"affordance_never_used\"] == 1])\n",
    "        ]\n",
    "    }\n",
    "\n",
    "counts = pd.DataFrame(data=d)\n",
    "counts"
   ]
  },
  {
   "cell_type": "code",
   "execution_count": null,
   "metadata": {},
   "outputs": [],
   "source": [
    "processed[processed[\"affordance_short_term\"] == 1 and processed[\"gender\"] == 1]"
   ]
  },
  {
   "cell_type": "code",
   "execution_count": null,
   "metadata": {},
   "outputs": [],
   "source": [
    "clean_counts = counts.sort_values(by=\"Number Reported\", ascending=False) # let's remove those that are fewer than \"Never used\"\n",
    "clean_counts = clean_counts[clean_counts[\"Number Reported\"] > 5]\n",
    "\n",
    "g = sns.catplot(\n",
    "        data=clean_counts, kind=\"bar\",\n",
    "        x=\"Number Reported\", y=\"Affordances\",\n",
    "        height=5, aspect=1.25, color=\"slategray\"\n",
    "    )"
   ]
  },
  {
   "cell_type": "markdown",
   "metadata": {},
   "source": [
    "## Affordances"
   ]
  },
  {
   "cell_type": "markdown",
   "metadata": {},
   "source": [
    "# Research Question Testing"
   ]
  },
  {
   "cell_type": "markdown",
   "metadata": {},
   "source": [
    "### RQ 1 - Do people perceive it as more difficult to find dates using dating apps than through groups?\n",
    "- People think it is generally more difficult to find people in online communities than in person or through dating apps\n",
    "- Dating apps are not significantly perceived to be easier than in-person"
   ]
  },
  {
   "cell_type": "code",
   "execution_count": 25,
   "metadata": {},
   "outputs": [
    {
     "name": "stdout",
     "output_type": "stream",
     "text": [
      "4.252577319587629\n",
      "4.376288659793815\n",
      "3.314432989690722\n"
     ]
    },
    {
     "data": {
      "text/plain": [
       "F_onewayResult(statistic=23.378009704876295, pvalue=1.7226073198163805e-10)"
      ]
     },
     "execution_count": 25,
     "metadata": {},
     "output_type": "execute_result"
    }
   ],
   "source": [
    "print(processed['app_ease'].mean())\n",
    "print(processed['physical_ease'].mean())\n",
    "print(processed['online_ease'].mean())\n",
    "\n",
    "stats.f_oneway(processed['app_ease'],processed['physical_ease'],processed['online_ease'])"
   ]
  },
  {
   "cell_type": "markdown",
   "metadata": {},
   "source": [
    "### Calculate mean and CI"
   ]
  },
  {
   "cell_type": "code",
   "execution_count": 26,
   "metadata": {},
   "outputs": [],
   "source": [
    "def mean_confidence_interval(data, confidence=0.95):\n",
    "    a = 1.0 * np.array(data)\n",
    "    n = len(a)\n",
    "    m, se = np.mean(a), stats.sem(a)\n",
    "    h = se * stats.t.ppf((1 + confidence) / 2., n-1)\n",
    "    return m, m-h, m+h"
   ]
  },
  {
   "cell_type": "code",
   "execution_count": 27,
   "metadata": {},
   "outputs": [],
   "source": [
    "app_ease = mean_confidence_interval(processed['app_ease'])\n",
    "physical_ease = mean_confidence_interval(processed['physical_ease'])\n",
    "online_ease = mean_confidence_interval(processed['online_ease'])"
   ]
  },
  {
   "cell_type": "markdown",
   "metadata": {},
   "source": [
    "### Visualize"
   ]
  },
  {
   "cell_type": "code",
   "execution_count": 28,
   "metadata": {},
   "outputs": [
    {
     "data": {
      "text/html": [
       "<div>\n",
       "<style scoped>\n",
       "    .dataframe tbody tr th:only-of-type {\n",
       "        vertical-align: middle;\n",
       "    }\n",
       "\n",
       "    .dataframe tbody tr th {\n",
       "        vertical-align: top;\n",
       "    }\n",
       "\n",
       "    .dataframe thead th {\n",
       "        text-align: right;\n",
       "    }\n",
       "</style>\n",
       "<table border=\"1\" class=\"dataframe\">\n",
       "  <thead>\n",
       "    <tr style=\"text-align: right;\">\n",
       "      <th></th>\n",
       "      <th>Dating style</th>\n",
       "      <th>Ease of finding dates</th>\n",
       "      <th>CI Low</th>\n",
       "      <th>CI High</th>\n",
       "    </tr>\n",
       "  </thead>\n",
       "  <tbody>\n",
       "    <tr>\n",
       "      <th>0</th>\n",
       "      <td>Dating Apps</td>\n",
       "      <td>4.252577</td>\n",
       "      <td>4.024970</td>\n",
       "      <td>4.480185</td>\n",
       "    </tr>\n",
       "    <tr>\n",
       "      <th>1</th>\n",
       "      <td>Physical Group</td>\n",
       "      <td>4.376289</td>\n",
       "      <td>4.148018</td>\n",
       "      <td>4.604559</td>\n",
       "    </tr>\n",
       "    <tr>\n",
       "      <th>2</th>\n",
       "      <td>Online Communities</td>\n",
       "      <td>3.314433</td>\n",
       "      <td>3.060667</td>\n",
       "      <td>3.568199</td>\n",
       "    </tr>\n",
       "  </tbody>\n",
       "</table>\n",
       "</div>"
      ],
      "text/plain": [
       "         Dating style  Ease of finding dates    CI Low   CI High\n",
       "0         Dating Apps               4.252577  4.024970  4.480185\n",
       "1      Physical Group               4.376289  4.148018  4.604559\n",
       "2  Online Communities               3.314433  3.060667  3.568199"
      ]
     },
     "execution_count": 28,
     "metadata": {},
     "output_type": "execute_result"
    }
   ],
   "source": [
    "d = {\n",
    "    \"Dating style\": [\"Dating Apps\", \"Physical Group\", \"Online Communities\"],\n",
    "    \"Ease of finding dates\": [app_ease[0], physical_ease[0], online_ease[0]],\n",
    "    \"CI Low\": [app_ease[1], physical_ease[1], online_ease[1]],\n",
    "    \"CI High\": [app_ease[2], physical_ease[2], online_ease[2]]\n",
    "}\n",
    "\n",
    "means = pd.DataFrame(data=d)\n",
    "means"
   ]
  },
  {
   "cell_type": "markdown",
   "metadata": {},
   "source": [
    "### 95% confidence intervals"
   ]
  },
  {
   "cell_type": "code",
   "execution_count": 29,
   "metadata": {},
   "outputs": [],
   "source": [
    "sns.set_palette(\"colorblind\",10)"
   ]
  },
  {
   "cell_type": "code",
   "execution_count": 30,
   "metadata": {},
   "outputs": [
    {
     "data": {
      "text/plain": [
       "<seaborn.axisgrid.FacetGrid at 0x13691270>"
      ]
     },
     "execution_count": 30,
     "metadata": {},
     "output_type": "execute_result"
    },
    {
     "data": {
      "image/png": "[encoded data removed]",
      "text/plain": [
       "<Figure size 360x360 with 1 Axes>"
      ]
     },
     "metadata": {},
     "output_type": "display_data"
    }
   ],
   "source": [
    "g = sns.catplot(\n",
    "    data=means, kind=\"bar\",\n",
    "    x=\"Dating style\", y=\"Ease of finding dates\",\n",
    "    ci=None, height=5, aspect=1,\n",
    ")\n",
    "\n",
    "yerr = [means[\"Ease of finding dates\"] - means['CI Low'], means['CI High'] - means[\"Ease of finding dates\"]]\n",
    "plt.errorbar(y=means[\"Ease of finding dates\"], x=[0,1,2], yerr=yerr, fmt='none', c='black', capsize=4)\n",
    "\n",
    "g.despine(left=True)\n",
    "g.set_axis_labels(\"Ease of Finding Dates (mean)\", \"Dating Style\")\n",
    "#g.legend.set_title(\"Awesome\")"
   ]
  },
  {
   "cell_type": "markdown",
   "metadata": {},
   "source": [
    "### RQ2 - Do perceived social presence and perceived trustworthiness of peers influence ease of finding dates when using dating apps or meeting through virtual communities?\n",
    "- We see that trust and social are strong predictors of ease of finding dates across the board\n",
    "- Trust has a much stronger coefficient in person vs social"
   ]
  },
  {
   "cell_type": "code",
   "execution_count": 31,
   "metadata": {},
   "outputs": [
    {
     "data": {
      "text/html": [
       "<div>\n",
       "<style scoped>\n",
       "    .dataframe tbody tr th:only-of-type {\n",
       "        vertical-align: middle;\n",
       "    }\n",
       "\n",
       "    .dataframe tbody tr th {\n",
       "        vertical-align: top;\n",
       "    }\n",
       "\n",
       "    .dataframe thead th {\n",
       "        text-align: right;\n",
       "    }\n",
       "</style>\n",
       "<table border=\"1\" class=\"dataframe\">\n",
       "  <thead>\n",
       "    <tr style=\"text-align: right;\">\n",
       "      <th></th>\n",
       "      <th>age</th>\n",
       "      <th>gender</th>\n",
       "      <th>apps_used</th>\n",
       "      <th>apps_purposes</th>\n",
       "      <th>apps_conversations</th>\n",
       "      <th>apps_match</th>\n",
       "      <th>AS1</th>\n",
       "      <th>AS2</th>\n",
       "      <th>AS3</th>\n",
       "      <th>AT1</th>\n",
       "      <th>...</th>\n",
       "      <th>used_aff</th>\n",
       "      <th>used_facebook_dating</th>\n",
       "      <th>used_none</th>\n",
       "      <th>affordance_short_term</th>\n",
       "      <th>affordance_long_term</th>\n",
       "      <th>affordance_friendship</th>\n",
       "      <th>affordance_validation</th>\n",
       "      <th>affordance_entertainment</th>\n",
       "      <th>affordance_other</th>\n",
       "      <th>affordance_never_used</th>\n",
       "    </tr>\n",
       "  </thead>\n",
       "  <tbody>\n",
       "    <tr>\n",
       "      <th>0</th>\n",
       "      <td>3</td>\n",
       "      <td>1</td>\n",
       "      <td>Tinder,Plenty of Fish</td>\n",
       "      <td>Finding short-term romantic or sexual relation...</td>\n",
       "      <td>2</td>\n",
       "      <td>2</td>\n",
       "      <td>5.0</td>\n",
       "      <td>5</td>\n",
       "      <td>2.0</td>\n",
       "      <td>3</td>\n",
       "      <td>...</td>\n",
       "      <td>0</td>\n",
       "      <td>0</td>\n",
       "      <td>0</td>\n",
       "      <td>1</td>\n",
       "      <td>0</td>\n",
       "      <td>0</td>\n",
       "      <td>0</td>\n",
       "      <td>0</td>\n",
       "      <td>0</td>\n",
       "      <td>0</td>\n",
       "    </tr>\n",
       "    <tr>\n",
       "      <th>1</th>\n",
       "      <td>2</td>\n",
       "      <td>1</td>\n",
       "      <td>Plenty of Fish</td>\n",
       "      <td>Finding long-term romantic or sexual relations...</td>\n",
       "      <td>3</td>\n",
       "      <td>3</td>\n",
       "      <td>6.0</td>\n",
       "      <td>7</td>\n",
       "      <td>7.0</td>\n",
       "      <td>6</td>\n",
       "      <td>...</td>\n",
       "      <td>0</td>\n",
       "      <td>0</td>\n",
       "      <td>0</td>\n",
       "      <td>0</td>\n",
       "      <td>1</td>\n",
       "      <td>0</td>\n",
       "      <td>0</td>\n",
       "      <td>0</td>\n",
       "      <td>0</td>\n",
       "      <td>0</td>\n",
       "    </tr>\n",
       "    <tr>\n",
       "      <th>2</th>\n",
       "      <td>2</td>\n",
       "      <td>0</td>\n",
       "      <td>Tinder,Bumble,Match,Plenty of Fish,OKCupid,Grindr</td>\n",
       "      <td>Finding short-term romantic or sexual relation...</td>\n",
       "      <td>2</td>\n",
       "      <td>2</td>\n",
       "      <td>6.0</td>\n",
       "      <td>6</td>\n",
       "      <td>5.0</td>\n",
       "      <td>5</td>\n",
       "      <td>...</td>\n",
       "      <td>0</td>\n",
       "      <td>0</td>\n",
       "      <td>0</td>\n",
       "      <td>1</td>\n",
       "      <td>1</td>\n",
       "      <td>0</td>\n",
       "      <td>0</td>\n",
       "      <td>0</td>\n",
       "      <td>0</td>\n",
       "      <td>0</td>\n",
       "    </tr>\n",
       "    <tr>\n",
       "      <th>3</th>\n",
       "      <td>3</td>\n",
       "      <td>1</td>\n",
       "      <td>Tinder</td>\n",
       "      <td>Finding short-term romantic or sexual relation...</td>\n",
       "      <td>2</td>\n",
       "      <td>3</td>\n",
       "      <td>6.0</td>\n",
       "      <td>5</td>\n",
       "      <td>5.0</td>\n",
       "      <td>4</td>\n",
       "      <td>...</td>\n",
       "      <td>0</td>\n",
       "      <td>0</td>\n",
       "      <td>0</td>\n",
       "      <td>1</td>\n",
       "      <td>1</td>\n",
       "      <td>0</td>\n",
       "      <td>0</td>\n",
       "      <td>1</td>\n",
       "      <td>0</td>\n",
       "      <td>0</td>\n",
       "    </tr>\n",
       "    <tr>\n",
       "      <th>4</th>\n",
       "      <td>2</td>\n",
       "      <td>1</td>\n",
       "      <td>Tinder,Bumble,OKCupid</td>\n",
       "      <td>Finding short-term romantic or sexual relation...</td>\n",
       "      <td>3</td>\n",
       "      <td>2</td>\n",
       "      <td>3.0</td>\n",
       "      <td>3</td>\n",
       "      <td>3.0</td>\n",
       "      <td>5</td>\n",
       "      <td>...</td>\n",
       "      <td>0</td>\n",
       "      <td>0</td>\n",
       "      <td>0</td>\n",
       "      <td>1</td>\n",
       "      <td>1</td>\n",
       "      <td>1</td>\n",
       "      <td>0</td>\n",
       "      <td>0</td>\n",
       "      <td>0</td>\n",
       "      <td>0</td>\n",
       "    </tr>\n",
       "  </tbody>\n",
       "</table>\n",
       "<p>5 rows × 60 columns</p>\n",
       "</div>"
      ],
      "text/plain": [
       "   age  gender                                          apps_used  \\\n",
       "0    3       1                              Tinder,Plenty of Fish   \n",
       "1    2       1                                     Plenty of Fish   \n",
       "2    2       0  Tinder,Bumble,Match,Plenty of Fish,OKCupid,Grindr   \n",
       "3    3       1                                             Tinder   \n",
       "4    2       1                              Tinder,Bumble,OKCupid   \n",
       "\n",
       "                                       apps_purposes  apps_conversations  \\\n",
       "0  Finding short-term romantic or sexual relation...                   2   \n",
       "1  Finding long-term romantic or sexual relations...                   3   \n",
       "2  Finding short-term romantic or sexual relation...                   2   \n",
       "3  Finding short-term romantic or sexual relation...                   2   \n",
       "4  Finding short-term romantic or sexual relation...                   3   \n",
       "\n",
       "   apps_match  AS1  AS2  AS3  AT1  ...  used_aff  used_facebook_dating  \\\n",
       "0           2  5.0    5  2.0    3  ...         0                     0   \n",
       "1           3  6.0    7  7.0    6  ...         0                     0   \n",
       "2           2  6.0    6  5.0    5  ...         0                     0   \n",
       "3           3  6.0    5  5.0    4  ...         0                     0   \n",
       "4           2  3.0    3  3.0    5  ...         0                     0   \n",
       "\n",
       "   used_none  affordance_short_term  affordance_long_term  \\\n",
       "0          0                      1                     0   \n",
       "1          0                      0                     1   \n",
       "2          0                      1                     1   \n",
       "3          0                      1                     1   \n",
       "4          0                      1                     1   \n",
       "\n",
       "   affordance_friendship  affordance_validation  affordance_entertainment  \\\n",
       "0                      0                      0                         0   \n",
       "1                      0                      0                         0   \n",
       "2                      0                      0                         0   \n",
       "3                      0                      0                         1   \n",
       "4                      1                      0                         0   \n",
       "\n",
       "   affordance_other  affordance_never_used  \n",
       "0                 0                      0  \n",
       "1                 0                      0  \n",
       "2                 0                      0  \n",
       "3                 0                      0  \n",
       "4                 0                      0  \n",
       "\n",
       "[5 rows x 60 columns]"
      ]
     },
     "execution_count": 31,
     "metadata": {},
     "output_type": "execute_result"
    }
   ],
   "source": [
    "processed.head()"
   ]
  },
  {
   "cell_type": "markdown",
   "metadata": {},
   "source": [
    "### There is a strong fit for dating apps"
   ]
  },
  {
   "cell_type": "code",
   "execution_count": 32,
   "metadata": {},
   "outputs": [],
   "source": [
    "colors = [\n",
    "    [(0.00392156862745098, 0.45098039215686275, 0.6980392156862745)], # colorblind blue\n",
    "    [(0.8705882352941177, 0.5607843137254902, 0.0196078431372549)], # colorblind orange\n",
    "    [(0.00784313725490196, 0.6196078431372549, 0.45098039215686275)] # colorblind green\n",
    "]"
   ]
  },
  {
   "cell_type": "code",
   "execution_count": 33,
   "metadata": {},
   "outputs": [],
   "source": [
    "sns.set_palette(colors[0],1)"
   ]
  },
  {
   "cell_type": "code",
   "execution_count": 39,
   "metadata": {},
   "outputs": [
    {
     "data": {
      "text/plain": [
       "<seaborn.axisgrid.FacetGrid at 0x12cfe3d0>"
      ]
     },
     "execution_count": 39,
     "metadata": {},
     "output_type": "execute_result"
    },
    {
     "data": {
      "image/png": "[encoded data removed]",
      "text/plain": [
       "<Figure size 230.4x288 with 1 Axes>"
      ]
     },
     "metadata": {},
     "output_type": "display_data"
    }
   ],
   "source": [
    "g = sns.lmplot(data=processed, x=\"app_social_trust\", y=\"app_ease\", height=4, aspect=0.8)\n",
    "g.set_axis_labels(\"Social Trust (Dating Apps)\", \"Perceived Ease of Finding Dates (Dating Apps)\")"
   ]
  },
  {
   "cell_type": "code",
   "execution_count": 35,
   "metadata": {},
   "outputs": [
    {
     "name": "stdout",
     "output_type": "stream",
     "text": [
      "                                 OLS Regression Results                                \n",
      "=======================================================================================\n",
      "Dep. Variable:               app_ease   R-squared (uncentered):                   0.900\n",
      "Model:                            OLS   Adj. R-squared (uncentered):              0.899\n",
      "Method:                 Least Squares   F-statistic:                              1736.\n",
      "Date:                Fri, 05 Feb 2021   Prob (F-statistic):                    1.98e-98\n",
      "Time:                        13:12:56   Log-Likelihood:                         -345.67\n",
      "No. Observations:                 194   AIC:                                      693.3\n",
      "Df Residuals:                     193   BIC:                                      696.6\n",
      "Df Model:                           1                                                  \n",
      "Covariance Type:            nonrobust                                                  \n",
      "====================================================================================\n",
      "                       coef    std err          t      P>|t|      [0.025      0.975]\n",
      "------------------------------------------------------------------------------------\n",
      "app_social_trust     0.9634      0.023     41.669      0.000       0.918       1.009\n",
      "==============================================================================\n",
      "Omnibus:                        2.454   Durbin-Watson:                   1.956\n",
      "Prob(Omnibus):                  0.293   Jarque-Bera (JB):                2.492\n",
      "Skew:                           0.239   Prob(JB):                        0.288\n",
      "Kurtosis:                       2.716   Cond. No.                         1.00\n",
      "==============================================================================\n",
      "\n",
      "Notes:\n",
      "[1] R² is computed without centering (uncentered) since the model does not contain a constant.\n",
      "[2] Standard Errors assume that the covariance matrix of the errors is correctly specified.\n"
     ]
    }
   ],
   "source": [
    "reg1 = sm.OLS(endog=processed['app_ease'], exog=processed[['app_social_trust']], \\\n",
    "    missing='drop')\n",
    "results = reg1.fit()\n",
    "print(results.summary())"
   ]
  },
  {
   "cell_type": "code",
   "execution_count": 40,
   "metadata": {},
   "outputs": [
    {
     "data": {
      "text/html": [
       "<div>\n",
       "<style scoped>\n",
       "    .dataframe tbody tr th:only-of-type {\n",
       "        vertical-align: middle;\n",
       "    }\n",
       "\n",
       "    .dataframe tbody tr th {\n",
       "        vertical-align: top;\n",
       "    }\n",
       "\n",
       "    .dataframe thead th {\n",
       "        text-align: right;\n",
       "    }\n",
       "</style>\n",
       "<table border=\"1\" class=\"dataframe\">\n",
       "  <thead>\n",
       "    <tr style=\"text-align: right;\">\n",
       "      <th></th>\n",
       "      <th>app_social_trust</th>\n",
       "      <th>app_ease</th>\n",
       "    </tr>\n",
       "  </thead>\n",
       "  <tbody>\n",
       "    <tr>\n",
       "      <th>app_social_trust</th>\n",
       "      <td>1.000000</td>\n",
       "      <td>0.490233</td>\n",
       "    </tr>\n",
       "    <tr>\n",
       "      <th>app_ease</th>\n",
       "      <td>0.490233</td>\n",
       "      <td>1.000000</td>\n",
       "    </tr>\n",
       "  </tbody>\n",
       "</table>\n",
       "</div>"
      ],
      "text/plain": [
       "                  app_social_trust  app_ease\n",
       "app_social_trust          1.000000  0.490233\n",
       "app_ease                  0.490233  1.000000"
      ]
     },
     "execution_count": 40,
     "metadata": {},
     "output_type": "execute_result"
    }
   ],
   "source": [
    "sub=processed[['app_social_trust','app_ease']]\n",
    "sub.corr()"
   ]
  },
  {
   "cell_type": "markdown",
   "metadata": {},
   "source": [
    "### This is also true for physical communities"
   ]
  },
  {
   "cell_type": "code",
   "execution_count": 41,
   "metadata": {},
   "outputs": [],
   "source": [
    "sns.set_palette(colors[1],1)"
   ]
  },
  {
   "cell_type": "code",
   "execution_count": 42,
   "metadata": {},
   "outputs": [
    {
     "data": {
      "text/plain": [
       "<seaborn.axisgrid.FacetGrid at 0x133fbdd0>"
      ]
     },
     "execution_count": 42,
     "metadata": {},
     "output_type": "execute_result"
    },
    {
     "data": {
      "image/png": "[encoded data removed]",
      "text/plain": [
       "<Figure size 230.4x288 with 1 Axes>"
      ]
     },
     "metadata": {},
     "output_type": "display_data"
    }
   ],
   "source": [
    "g = sns.lmplot(data=processed, x=\"physical_social_trust\", y=\"physical_ease\", height=4, aspect=0.8)\n",
    "g.set_axis_labels(\"Social Trust (Physical Group)\", \"Perceived Ease of Finding Dates (Physical Group)\")"
   ]
  },
  {
   "cell_type": "code",
   "execution_count": 43,
   "metadata": {},
   "outputs": [
    {
     "name": "stdout",
     "output_type": "stream",
     "text": [
      "                                 OLS Regression Results                                \n",
      "=======================================================================================\n",
      "Dep. Variable:          physical_ease   R-squared (uncentered):                   0.898\n",
      "Model:                            OLS   Adj. R-squared (uncentered):              0.897\n",
      "Method:                 Least Squares   F-statistic:                              1693.\n",
      "Date:                Fri, 05 Feb 2021   Prob (F-statistic):                    1.76e-97\n",
      "Time:                        13:17:06   Log-Likelihood:                         -352.82\n",
      "No. Observations:                 194   AIC:                                      707.6\n",
      "Df Residuals:                     193   BIC:                                      710.9\n",
      "Df Model:                           1                                                  \n",
      "Covariance Type:            nonrobust                                                  \n",
      "=========================================================================================\n",
      "                            coef    std err          t      P>|t|      [0.025      0.975]\n",
      "-----------------------------------------------------------------------------------------\n",
      "physical_social_trust     0.7952      0.019     41.147      0.000       0.757       0.833\n",
      "==============================================================================\n",
      "Omnibus:                        5.625   Durbin-Watson:                   2.022\n",
      "Prob(Omnibus):                  0.060   Jarque-Bera (JB):                5.453\n",
      "Skew:                          -0.364   Prob(JB):                       0.0654\n",
      "Kurtosis:                       2.618   Cond. No.                         1.00\n",
      "==============================================================================\n",
      "\n",
      "Notes:\n",
      "[1] R² is computed without centering (uncentered) since the model does not contain a constant.\n",
      "[2] Standard Errors assume that the covariance matrix of the errors is correctly specified.\n"
     ]
    }
   ],
   "source": [
    "reg2 = sm.OLS(endog=processed['physical_ease'], exog=processed['physical_social_trust'], \\\n",
    "    missing='drop')\n",
    "results = reg2.fit()\n",
    "print(results.summary())"
   ]
  },
  {
   "cell_type": "markdown",
   "metadata": {},
   "source": [
    "### Though weaker, it is also the case for online communities"
   ]
  },
  {
   "cell_type": "code",
   "execution_count": 44,
   "metadata": {},
   "outputs": [],
   "source": [
    "sns.set_palette(colors[2],1)"
   ]
  },
  {
   "cell_type": "code",
   "execution_count": 45,
   "metadata": {},
   "outputs": [
    {
     "data": {
      "text/plain": [
       "<seaborn.axisgrid.FacetGrid at 0x12f5f570>"
      ]
     },
     "execution_count": 45,
     "metadata": {},
     "output_type": "execute_result"
    },
    {
     "data": {
      "image/png": "[encoded data removed]",
      "text/plain": [
       "<Figure size 230.4x288 with 1 Axes>"
      ]
     },
     "metadata": {},
     "output_type": "display_data"
    }
   ],
   "source": [
    "g = sns.lmplot(data=processed, x=\"online_social_trust\", y=\"online_ease\", height=4, aspect=0.8)\n",
    "g.set_axis_labels(\"Social Trust (Online Comm.)\", \"Perceived Ease of Finding Dates (Online Comm.)\")"
   ]
  },
  {
   "cell_type": "code",
   "execution_count": 46,
   "metadata": {},
   "outputs": [
    {
     "name": "stdout",
     "output_type": "stream",
     "text": [
      "                                 OLS Regression Results                                \n",
      "=======================================================================================\n",
      "Dep. Variable:            online_ease   R-squared (uncentered):                   0.827\n",
      "Model:                            OLS   Adj. R-squared (uncentered):              0.826\n",
      "Method:                 Least Squares   F-statistic:                              919.8\n",
      "Date:                Fri, 05 Feb 2021   Prob (F-statistic):                    2.37e-75\n",
      "Time:                        13:17:08   Log-Likelihood:                         -362.56\n",
      "No. Observations:                 194   AIC:                                      727.1\n",
      "Df Residuals:                     193   BIC:                                      730.4\n",
      "Df Model:                           1                                                  \n",
      "Covariance Type:            nonrobust                                                  \n",
      "=======================================================================================\n",
      "                          coef    std err          t      P>|t|      [0.025      0.975]\n",
      "---------------------------------------------------------------------------------------\n",
      "online_social_trust     0.7377      0.024     30.329      0.000       0.690       0.786\n",
      "==============================================================================\n",
      "Omnibus:                       17.260   Durbin-Watson:                   1.956\n",
      "Prob(Omnibus):                  0.000   Jarque-Bera (JB):                7.518\n",
      "Skew:                           0.246   Prob(JB):                       0.0233\n",
      "Kurtosis:                       2.170   Cond. No.                         1.00\n",
      "==============================================================================\n",
      "\n",
      "Notes:\n",
      "[1] R² is computed without centering (uncentered) since the model does not contain a constant.\n",
      "[2] Standard Errors assume that the covariance matrix of the errors is correctly specified.\n"
     ]
    }
   ],
   "source": [
    "reg3 = sm.OLS(endog=processed['online_ease'], exog=processed['online_social_trust'], \\\n",
    "    missing='drop')\n",
    "results = reg3.fit()\n",
    "print(results.summary())"
   ]
  },
  {
   "cell_type": "markdown",
   "metadata": {},
   "source": [
    "### Are they correlated?"
   ]
  },
  {
   "cell_type": "code",
   "execution_count": 47,
   "metadata": {},
   "outputs": [],
   "source": [
    "from statsmodels.stats.outliers_influence import variance_inflation_factor "
   ]
  },
  {
   "cell_type": "code",
   "execution_count": 48,
   "metadata": {},
   "outputs": [
    {
     "name": "stdout",
     "output_type": "stream",
     "text": [
      "            feature       VIF\n",
      "0  app_social_trust  9.996335\n",
      "1          app_ease  9.996335\n"
     ]
    }
   ],
   "source": [
    "foo = processed[['app_social_trust', 'app_ease']]\n",
    "\n",
    "vif_data = pd.DataFrame() \n",
    "vif_data[\"feature\"] = foo.columns \n",
    "\n",
    "vif_data[\"VIF\"] = [variance_inflation_factor(foo.values, i) \n",
    "                          for i in range(len(foo.columns))] \n",
    "\n",
    "print(vif_data)"
   ]
  },
  {
   "cell_type": "code",
   "execution_count": 49,
   "metadata": {},
   "outputs": [
    {
     "name": "stdout",
     "output_type": "stream",
     "text": [
      "                 feature       VIF\n",
      "0  physical_social_trust  9.772473\n",
      "1          physical_ease  9.772473\n"
     ]
    }
   ],
   "source": [
    "foo = processed[['physical_social_trust', 'physical_ease']]\n",
    "\n",
    "vif_data = pd.DataFrame() \n",
    "vif_data[\"feature\"] = foo.columns \n",
    "\n",
    "vif_data[\"VIF\"] = [variance_inflation_factor(foo.values, i) \n",
    "                          for i in range(len(foo.columns))] \n",
    "\n",
    "print(vif_data)"
   ]
  },
  {
   "cell_type": "code",
   "execution_count": 50,
   "metadata": {},
   "outputs": [
    {
     "name": "stdout",
     "output_type": "stream",
     "text": [
      "               feature       VIF\n",
      "0  online_social_trust  5.766019\n",
      "1          online_ease  5.766019\n"
     ]
    }
   ],
   "source": [
    "foo = processed[['online_social_trust', 'online_ease']]\n",
    "\n",
    "vif_data = pd.DataFrame() \n",
    "vif_data[\"feature\"] = foo.columns \n",
    "\n",
    "vif_data[\"VIF\"] = [variance_inflation_factor(foo.values, i) \n",
    "                          for i in range(len(foo.columns))] \n",
    "\n",
    "print(vif_data)"
   ]
  },
  {
   "cell_type": "markdown",
   "metadata": {},
   "source": [
    "### RQ3 - Does perceived ease of finding dates influence increased reported use?\n",
    "- Strong predictions on all three"
   ]
  },
  {
   "cell_type": "code",
   "execution_count": 51,
   "metadata": {},
   "outputs": [
    {
     "data": {
      "text/plain": [
       "<seaborn.axisgrid.FacetGrid at 0x13eebd0>"
      ]
     },
     "execution_count": 51,
     "metadata": {},
     "output_type": "execute_result"
    },
    {
     "data": {
      "image/png": "[encoded data removed]",
      "text/plain": [
       "<Figure size 230.4x288 with 1 Axes>"
      ]
     },
     "metadata": {},
     "output_type": "display_data"
    }
   ],
   "source": [
    "sns.set_palette(colors[0],1)\n",
    "g = sns.lmplot(data=processed, x=\"covid_apps_more\", y=\"app_ease\", height=4, aspect=0.8)\n",
    "g.set_axis_labels(\"Increased Use During Covid-19 (Dating Apps)\", \"Ease of Finding Dates (Dating Apps)\")"
   ]
  },
  {
   "cell_type": "code",
   "execution_count": 52,
   "metadata": {},
   "outputs": [
    {
     "name": "stdout",
     "output_type": "stream",
     "text": [
      "                                 OLS Regression Results                                \n",
      "=======================================================================================\n",
      "Dep. Variable:        covid_apps_more   R-squared (uncentered):                   0.728\n",
      "Model:                            OLS   Adj. R-squared (uncentered):              0.726\n",
      "Method:                 Least Squares   F-statistic:                              515.9\n",
      "Date:                Fri, 05 Feb 2021   Prob (F-statistic):                    1.99e-56\n",
      "Time:                        13:17:15   Log-Likelihood:                         -413.27\n",
      "No. Observations:                 194   AIC:                                      828.5\n",
      "Df Residuals:                     193   BIC:                                      831.8\n",
      "Df Model:                           1                                                  \n",
      "Covariance Type:            nonrobust                                                  \n",
      "==============================================================================\n",
      "                 coef    std err          t      P>|t|      [0.025      0.975]\n",
      "------------------------------------------------------------------------------\n",
      "app_ease       0.7327      0.032     22.714      0.000       0.669       0.796\n",
      "==============================================================================\n",
      "Omnibus:                        2.899   Durbin-Watson:                   2.015\n",
      "Prob(Omnibus):                  0.235   Jarque-Bera (JB):                2.152\n",
      "Skew:                          -0.088   Prob(JB):                        0.341\n",
      "Kurtosis:                       2.515   Cond. No.                         1.00\n",
      "==============================================================================\n",
      "\n",
      "Notes:\n",
      "[1] R² is computed without centering (uncentered) since the model does not contain a constant.\n",
      "[2] Standard Errors assume that the covariance matrix of the errors is correctly specified.\n"
     ]
    }
   ],
   "source": [
    "reg4 = sm.OLS(endog=processed['covid_apps_more'], exog=processed[['app_ease']], \\\n",
    "    missing='drop')\n",
    "results = reg4.fit()\n",
    "print(results.summary())"
   ]
  },
  {
   "cell_type": "code",
   "execution_count": 53,
   "metadata": {},
   "outputs": [
    {
     "name": "stdout",
     "output_type": "stream",
     "text": [
      "           feature       VIF\n",
      "0         app_ease  3.673233\n",
      "1  covid_apps_more  3.673233\n"
     ]
    }
   ],
   "source": [
    "foo = processed[['app_ease', 'covid_apps_more']]\n",
    "\n",
    "vif_data = pd.DataFrame() \n",
    "vif_data[\"feature\"] = foo.columns \n",
    "\n",
    "vif_data[\"VIF\"] = [variance_inflation_factor(foo.values, i) \n",
    "                          for i in range(len(foo.columns))] \n",
    "\n",
    "print(vif_data)"
   ]
  },
  {
   "cell_type": "code",
   "execution_count": 54,
   "metadata": {},
   "outputs": [
    {
     "data": {
      "text/plain": [
       "<seaborn.axisgrid.FacetGrid at 0x1a740b0>"
      ]
     },
     "execution_count": 54,
     "metadata": {},
     "output_type": "execute_result"
    },
    {
     "data": {
      "image/png": "[encoded data removed]",
      "text/plain": [
       "<Figure size 230.4x288 with 1 Axes>"
      ]
     },
     "metadata": {},
     "output_type": "display_data"
    }
   ],
   "source": [
    "sns.set_palette(colors[1],1)\n",
    "g = sns.lmplot(data=processed, x=\"covid_physical_more\", y=\"physical_ease\", height=4, aspect=0.8)\n",
    "g.set_axis_labels(\"Increased Activity During Covid-19 (Physical Group)\", \"Ease of Finding Dates (Physical Group)\")"
   ]
  },
  {
   "cell_type": "code",
   "execution_count": 55,
   "metadata": {},
   "outputs": [
    {
     "name": "stdout",
     "output_type": "stream",
     "text": [
      "               feature       VIF\n",
      "0        physical_ease  3.088551\n",
      "1  covid_physical_more  3.088551\n"
     ]
    }
   ],
   "source": [
    "foo = processed[['physical_ease', 'covid_physical_more']]\n",
    "\n",
    "vif_data = pd.DataFrame() \n",
    "vif_data[\"feature\"] = foo.columns \n",
    "\n",
    "vif_data[\"VIF\"] = [variance_inflation_factor(foo.values, i) \n",
    "                          for i in range(len(foo.columns))] \n",
    "\n",
    "print(vif_data)"
   ]
  },
  {
   "cell_type": "code",
   "execution_count": 56,
   "metadata": {},
   "outputs": [
    {
     "name": "stdout",
     "output_type": "stream",
     "text": [
      "                                 OLS Regression Results                                 \n",
      "========================================================================================\n",
      "Dep. Variable:     covid_physical_more   R-squared (uncentered):                   0.676\n",
      "Model:                             OLS   Adj. R-squared (uncentered):              0.675\n",
      "Method:                  Least Squares   F-statistic:                              403.1\n",
      "Date:                 Fri, 05 Feb 2021   Prob (F-statistic):                    3.81e-49\n",
      "Time:                         13:17:18   Log-Likelihood:                         -371.81\n",
      "No. Observations:                  194   AIC:                                      745.6\n",
      "Df Residuals:                      193   BIC:                                      748.9\n",
      "Df Model:                            1                                                  \n",
      "Covariance Type:             nonrobust                                                  \n",
      "=================================================================================\n",
      "                    coef    std err          t      P>|t|      [0.025      0.975]\n",
      "---------------------------------------------------------------------------------\n",
      "physical_ease     0.5098      0.025     20.077      0.000       0.460       0.560\n",
      "==============================================================================\n",
      "Omnibus:                       13.674   Durbin-Watson:                   1.858\n",
      "Prob(Omnibus):                  0.001   Jarque-Bera (JB):               15.257\n",
      "Skew:                           0.684   Prob(JB):                     0.000486\n",
      "Kurtosis:                       2.883   Cond. No.                         1.00\n",
      "==============================================================================\n",
      "\n",
      "Notes:\n",
      "[1] R² is computed without centering (uncentered) since the model does not contain a constant.\n",
      "[2] Standard Errors assume that the covariance matrix of the errors is correctly specified.\n"
     ]
    }
   ],
   "source": [
    "reg5 = sm.OLS(endog=processed['covid_physical_more'], exog=processed[['physical_ease']], \\\n",
    "    missing='drop')\n",
    "results = reg5.fit()\n",
    "print(results.summary())"
   ]
  },
  {
   "cell_type": "code",
   "execution_count": 57,
   "metadata": {},
   "outputs": [
    {
     "data": {
      "text/plain": [
       "<seaborn.axisgrid.FacetGrid at 0x1ab2210>"
      ]
     },
     "execution_count": 57,
     "metadata": {},
     "output_type": "execute_result"
    },
    {
     "data": {
      "image/png": "[encoded data removed]",
      "text/plain": [
       "<Figure size 230.4x288 with 1 Axes>"
      ]
     },
     "metadata": {},
     "output_type": "display_data"
    }
   ],
   "source": [
    "sns.set_palette(colors[2],1)\n",
    "g = sns.lmplot(data=processed, x=\"covid_online_more\", y=\"online_ease\", height=4, aspect=0.8)\n",
    "g.set_axis_labels(\"Increased Use During Covid-19 (Online Comm.)\", \"Ease of Finding Dates (Online Comm.)\")"
   ]
  },
  {
   "cell_type": "code",
   "execution_count": 58,
   "metadata": {},
   "outputs": [
    {
     "name": "stdout",
     "output_type": "stream",
     "text": [
      "                                 OLS Regression Results                                \n",
      "=======================================================================================\n",
      "Dep. Variable:      covid_online_more   R-squared (uncentered):                   0.742\n",
      "Model:                            OLS   Adj. R-squared (uncentered):              0.740\n",
      "Method:                 Least Squares   F-statistic:                              554.6\n",
      "Date:                Fri, 05 Feb 2021   Prob (F-statistic):                    1.18e-58\n",
      "Time:                        13:17:19   Log-Likelihood:                         -459.15\n",
      "No. Observations:                 194   AIC:                                      920.3\n",
      "Df Residuals:                     193   BIC:                                      923.6\n",
      "Df Model:                           1                                                  \n",
      "Covariance Type:            nonrobust                                                  \n",
      "===============================================================================\n",
      "                  coef    std err          t      P>|t|      [0.025      0.975]\n",
      "-------------------------------------------------------------------------------\n",
      "online_ease     1.1614      0.049     23.550      0.000       1.064       1.259\n",
      "==============================================================================\n",
      "Omnibus:                        9.551   Durbin-Watson:                   1.808\n",
      "Prob(Omnibus):                  0.008   Jarque-Bera (JB):                4.736\n",
      "Skew:                          -0.139   Prob(JB):                       0.0937\n",
      "Kurtosis:                       2.287   Cond. No.                         1.00\n",
      "==============================================================================\n",
      "\n",
      "Notes:\n",
      "[1] R² is computed without centering (uncentered) since the model does not contain a constant.\n",
      "[2] Standard Errors assume that the covariance matrix of the errors is correctly specified.\n"
     ]
    }
   ],
   "source": [
    "reg6 = sm.OLS(endog=processed['covid_online_more'], exog=processed[['online_ease']], \\\n",
    "    missing='drop')\n",
    "results = reg6.fit()\n",
    "print(results.summary())"
   ]
  },
  {
   "cell_type": "code",
   "execution_count": 59,
   "metadata": {},
   "outputs": [
    {
     "name": "stdout",
     "output_type": "stream",
     "text": [
      "             feature       VIF\n",
      "0        online_ease  3.873495\n",
      "1  covid_online_more  3.873495\n"
     ]
    }
   ],
   "source": [
    "foo = processed[['online_ease', 'covid_online_more']]\n",
    "\n",
    "vif_data = pd.DataFrame() \n",
    "vif_data[\"feature\"] = foo.columns \n",
    "\n",
    "vif_data[\"VIF\"] = [variance_inflation_factor(foo.values, i) \n",
    "                          for i in range(len(foo.columns))] \n",
    "\n",
    "print(vif_data)"
   ]
  },
  {
   "cell_type": "markdown",
   "metadata": {},
   "source": [
    "### RQ4 - To what degree, if any, has COVID-19 affected dating app usage and social interaction in groups?\n",
    "- People are more likely to use dating apps more than meet in person more\n",
    "- People are more likely to use online communities more than use dating apps more"
   ]
  },
  {
   "cell_type": "code",
   "execution_count": 60,
   "metadata": {},
   "outputs": [
    {
     "name": "stdout",
     "output_type": "stream",
     "text": [
      "3.4329896907216493\n",
      "2.3556701030927836\n",
      "4.783505154639175\n"
     ]
    }
   ],
   "source": [
    "print(processed['covid_apps_more'].mean())\n",
    "print(processed['covid_physical_more'].mean())\n",
    "print(processed['covid_online_more'].mean())"
   ]
  },
  {
   "cell_type": "code",
   "execution_count": 61,
   "metadata": {},
   "outputs": [
    {
     "data": {
      "text/plain": [
       "F_onewayResult(statistic=93.54092830186492, pvalue=6.277409851153611e-36)"
      ]
     },
     "execution_count": 61,
     "metadata": {},
     "output_type": "execute_result"
    }
   ],
   "source": [
    "stats.f_oneway(processed['covid_apps_more'],processed['covid_physical_more'],processed['covid_online_more'])"
   ]
  },
  {
   "cell_type": "code",
   "execution_count": 62,
   "metadata": {},
   "outputs": [
    {
     "data": {
      "text/plain": [
       "Ttest_indResult(statistic=5.982725249025166, pvalue=5.01019577022723e-09)"
      ]
     },
     "execution_count": 62,
     "metadata": {},
     "output_type": "execute_result"
    }
   ],
   "source": [
    "stats.ttest_ind(processed['covid_apps_more'],processed['covid_physical_more'])"
   ]
  },
  {
   "cell_type": "code",
   "execution_count": 63,
   "metadata": {},
   "outputs": [
    {
     "data": {
      "text/plain": [
       "Ttest_indResult(statistic=-7.443535428778501, pvalue=6.442540305487545e-13)"
      ]
     },
     "execution_count": 63,
     "metadata": {},
     "output_type": "execute_result"
    }
   ],
   "source": [
    "stats.ttest_ind(processed['covid_apps_more'],processed['covid_online_more'])"
   ]
  },
  {
   "cell_type": "markdown",
   "metadata": {},
   "source": [
    "### Confidence Intervals"
   ]
  },
  {
   "cell_type": "code",
   "execution_count": 64,
   "metadata": {},
   "outputs": [],
   "source": [
    "covid_apps_more = mean_confidence_interval(processed['covid_apps_more'])\n",
    "covid_physical_more = mean_confidence_interval(processed['covid_physical_more'])\n",
    "covid_online_more = mean_confidence_interval(processed['covid_online_more'])"
   ]
  },
  {
   "cell_type": "code",
   "execution_count": 65,
   "metadata": {},
   "outputs": [
    {
     "data": {
      "text/html": [
       "<div>\n",
       "<style scoped>\n",
       "    .dataframe tbody tr th:only-of-type {\n",
       "        vertical-align: middle;\n",
       "    }\n",
       "\n",
       "    .dataframe tbody tr th {\n",
       "        vertical-align: top;\n",
       "    }\n",
       "\n",
       "    .dataframe thead th {\n",
       "        text-align: right;\n",
       "    }\n",
       "</style>\n",
       "<table border=\"1\" class=\"dataframe\">\n",
       "  <thead>\n",
       "    <tr style=\"text-align: right;\">\n",
       "      <th></th>\n",
       "      <th>Increased Use During Covid</th>\n",
       "      <th>Mean Values</th>\n",
       "      <th>CI Low</th>\n",
       "      <th>CI High</th>\n",
       "    </tr>\n",
       "  </thead>\n",
       "  <tbody>\n",
       "    <tr>\n",
       "      <th>0</th>\n",
       "      <td>Dating Apps</td>\n",
       "      <td>3.432990</td>\n",
       "      <td>3.169224</td>\n",
       "      <td>3.696755</td>\n",
       "    </tr>\n",
       "    <tr>\n",
       "      <th>1</th>\n",
       "      <td>Physical Group</td>\n",
       "      <td>2.355670</td>\n",
       "      <td>2.117831</td>\n",
       "      <td>2.593509</td>\n",
       "    </tr>\n",
       "    <tr>\n",
       "      <th>2</th>\n",
       "      <td>Online Communities</td>\n",
       "      <td>4.783505</td>\n",
       "      <td>4.541670</td>\n",
       "      <td>5.025340</td>\n",
       "    </tr>\n",
       "  </tbody>\n",
       "</table>\n",
       "</div>"
      ],
      "text/plain": [
       "  Increased Use During Covid  Mean Values    CI Low   CI High\n",
       "0                Dating Apps     3.432990  3.169224  3.696755\n",
       "1             Physical Group     2.355670  2.117831  2.593509\n",
       "2         Online Communities     4.783505  4.541670  5.025340"
      ]
     },
     "execution_count": 65,
     "metadata": {},
     "output_type": "execute_result"
    }
   ],
   "source": [
    "d = {\n",
    "    \"Increased Use During Covid\": [\"Dating Apps\", \"Physical Group\", \"Online Communities\"],\n",
    "    \"Mean Values\": [covid_apps_more[0], covid_physical_more[0], covid_online_more[0]],\n",
    "    \"CI Low\": [covid_apps_more[1], covid_physical_more[1], covid_online_more[1]],\n",
    "    \"CI High\": [covid_apps_more[2], covid_physical_more[2], covid_online_more[2]]\n",
    "}\n",
    "\n",
    "means = pd.DataFrame(data=d)\n",
    "means"
   ]
  },
  {
   "cell_type": "code",
   "execution_count": 66,
   "metadata": {},
   "outputs": [
    {
     "data": {
      "text/plain": [
       "<seaborn.axisgrid.FacetGrid at 0x1ae42b0>"
      ]
     },
     "execution_count": 66,
     "metadata": {},
     "output_type": "execute_result"
    },
    {
     "data": {
      "image/png": "[encoded data removed]",
      "text/plain": [
       "<Figure size 360x360 with 1 Axes>"
      ]
     },
     "metadata": {},
     "output_type": "display_data"
    }
   ],
   "source": [
    "sns.set_palette(\"colorblind\",10)\n",
    "\n",
    "g = sns.catplot(\n",
    "    data=means, kind=\"bar\",\n",
    "    x=\"Increased Use During Covid\", y=\"Mean Values\", \n",
    "    ci=None, height=5, aspect=1\n",
    ")\n",
    "\n",
    "xerr = [means[\"Mean Values\"] - means['CI Low'], means['CI High'] - means[\"Mean Values\"]]\n",
    "plt.errorbar(y=means[\"Mean Values\"], x=[0,1,2], yerr=yerr, fmt='none', c='black', capsize=4)\n",
    "\n",
    "g.despine(left=True)\n",
    "g.set_axis_labels(\"Dating Style\", \"Mean Response\")\n",
    "#g.legend.set_title(\"Awesome\")"
   ]
  }
 ],
 "metadata": {
  "kernelspec": {
   "display_name": "Python 3",
   "language": "python",
   "name": "python3"
  },
  "language_info": {
   "codemirror_mode": {
    "name": "ipython",
    "version": 3
   },
   "file_extension": ".py",
   "mimetype": "text/x-python",
   "name": "python",
   "nbconvert_exporter": "python",
   "pygments_lexer": "ipython3",
   "version": "3.7.4"
  }
 },
 "nbformat": 4,
 "nbformat_minor": 4
}
