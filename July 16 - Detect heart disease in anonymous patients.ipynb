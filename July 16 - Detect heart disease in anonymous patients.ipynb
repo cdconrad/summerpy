{
 "cells": [
  {
   "cell_type": "markdown",
   "metadata": {},
   "source": [
    "# July 16th - Detect heart disease in anonymous patients\n",
    "*© 2022 Colin Conrad*\n",
    "\n",
    "We have made so much progress in the past six weeks. In this final session, we will dig a bit more deeply into data mining by drawing from our visualization and statistics skills, but most importantly, but exploring _classification_. This technique is one of the common tasks of machine learning, a whole world onto itself. The objective of classification is to train a computer algorithm that can detect a target data feature (in this case, whether or not someone has heart disease) based on the other data features. This task will introduce you to some of the key machine learning concepts as they pertain to information managers. We will draw from a prominent Python library called Scikit-Learn to do this (Pedregosa et al., 2011).\n",
    "\n",
    "This lab is perhaps the most technically complex of all of the labs (from a theoretical perspective). To help make this simpler, we will explore a relatively simple data set. In fact, it is one of the most commonly explored data sets for this purpose. In many ways, it is also a perfect example of how information managers could help improve researchers' data governance and knowledge discovery processes. If you are interested in exploring this subject further, I am always happy to take on students for directed studies on data mining or machine learning projects.\n",
    "\n",
    "**This week, we will achieve the following objectives:**\n",
    "- Explore the factors that indicate heart disease\n",
    "- Apply a classifier\n",
    "- Compare and assess the performance of multiple classifiers\n",
    "\n",
    "\n",
    "# Case: The Heart Disease Dataset\n",
    "This week's lab is based on the [UCI Heart Disease Dataset](https://archive.ics.uci.edu/ml/datasets/Heart+Disease) provided by David Aha. The dataset consists of 303 records of patient data collected in the 1980s, as described by Detrano et al. (1989), Aha & Kibler (n.d.) and Gennari et al. (1989). Though the original records collected comprehensive data from patients, the original fields have been corrupted, and only a limited selection of data remain in the repository (_this_ is why we should teach kids to back up their data... you just never know). The 303 patient records that remain consist of the following data features:\n",
    "\n",
    "- age: The person's age in years\n",
    "- sex: The person's sex (1 = male, 0 = female)\n",
    "- cp: The chest pain experienced (Value 1: typical angina, Value 2: atypical angina, Value 3: non-anginal pain, Value 4: asymptomatic)\n",
    "- trestbps: The person's resting blood pressure (mm Hg on admission to the hospital)\n",
    "- chol: The person's cholesterol measurement in mg/dl\n",
    "- fbs: The person's fasting blood sugar (> 120 mg/dl, 1 = true; 0 = false)\n",
    "- restecg: Resting electrocardiographic measurement (0 = normal, 1 = having ST-T wave abnormality, 2 = showing probable or definite left ventricular hypertrophy by Estes' criteria)\n",
    "- thalach: Maximum heart rate achieved\n",
    "- exang: Exercise induced angina (1 = yes; 0 = no)\n",
    "- oldpeak: ST depression induced by exercise relative to rest\n",
    "- slope: the slope of the peak exercise ST segment (Value 1: upsloping, Value 2: flat, Value 3: downsloping)\n",
    "- ca: The number of major vessels (0-3)\n",
    "- thal: A blood disorder called thalassemia (0 = fixed defect; 1 = normal defect; 2 = reversable defect __Note:__ changed for our class for simplicity)\n",
    "- target: Heart disease (0 = no, 1 = yes)\n",
    "\n",
    "This data set has been the subject of hundreds of publications, and all of them (to the best of my knowledge) concern the summarized data similar to that contained in this week's class file."
   ]
  },
  {
   "cell_type": "markdown",
   "metadata": {},
   "source": [
    "# Objective 1: Explore the factors that indicate heart disease\n",
    "This data set is real and interesting. As a data scientist, one of the first things that you would normally do is explore the data set to understand the nuances of the data. Visualization is best suited for this task, hence why we spent so much time on it. Let's start by importing seaborn and exploring the data head."
   ]
  },
  {
   "cell_type": "code",
   "execution_count": 1,
   "metadata": {
    "scrolled": true
   },
   "outputs": [
    {
     "data": {
      "text/html": [
       "<div>\n",
       "<style scoped>\n",
       "    .dataframe tbody tr th:only-of-type {\n",
       "        vertical-align: middle;\n",
       "    }\n",
       "\n",
       "    .dataframe tbody tr th {\n",
       "        vertical-align: top;\n",
       "    }\n",
       "\n",
       "    .dataframe thead th {\n",
       "        text-align: right;\n",
       "    }\n",
       "</style>\n",
       "<table border=\"1\" class=\"dataframe\">\n",
       "  <thead>\n",
       "    <tr style=\"text-align: right;\">\n",
       "      <th></th>\n",
       "      <th>age</th>\n",
       "      <th>sex</th>\n",
       "      <th>cp</th>\n",
       "      <th>trestbps</th>\n",
       "      <th>chol</th>\n",
       "      <th>fbs</th>\n",
       "      <th>restecg</th>\n",
       "      <th>thalach</th>\n",
       "      <th>exang</th>\n",
       "      <th>oldpeak</th>\n",
       "      <th>slope</th>\n",
       "      <th>ca</th>\n",
       "      <th>thal</th>\n",
       "      <th>target</th>\n",
       "    </tr>\n",
       "  </thead>\n",
       "  <tbody>\n",
       "    <tr>\n",
       "      <th>0</th>\n",
       "      <td>63</td>\n",
       "      <td>1</td>\n",
       "      <td>3</td>\n",
       "      <td>145</td>\n",
       "      <td>233</td>\n",
       "      <td>1</td>\n",
       "      <td>0</td>\n",
       "      <td>150</td>\n",
       "      <td>0</td>\n",
       "      <td>2.3</td>\n",
       "      <td>0</td>\n",
       "      <td>0</td>\n",
       "      <td>0</td>\n",
       "      <td>1</td>\n",
       "    </tr>\n",
       "    <tr>\n",
       "      <th>1</th>\n",
       "      <td>37</td>\n",
       "      <td>1</td>\n",
       "      <td>2</td>\n",
       "      <td>130</td>\n",
       "      <td>250</td>\n",
       "      <td>0</td>\n",
       "      <td>1</td>\n",
       "      <td>187</td>\n",
       "      <td>0</td>\n",
       "      <td>3.5</td>\n",
       "      <td>0</td>\n",
       "      <td>0</td>\n",
       "      <td>1</td>\n",
       "      <td>1</td>\n",
       "    </tr>\n",
       "    <tr>\n",
       "      <th>2</th>\n",
       "      <td>41</td>\n",
       "      <td>0</td>\n",
       "      <td>1</td>\n",
       "      <td>130</td>\n",
       "      <td>204</td>\n",
       "      <td>0</td>\n",
       "      <td>0</td>\n",
       "      <td>172</td>\n",
       "      <td>0</td>\n",
       "      <td>1.4</td>\n",
       "      <td>2</td>\n",
       "      <td>0</td>\n",
       "      <td>1</td>\n",
       "      <td>1</td>\n",
       "    </tr>\n",
       "    <tr>\n",
       "      <th>3</th>\n",
       "      <td>56</td>\n",
       "      <td>1</td>\n",
       "      <td>1</td>\n",
       "      <td>120</td>\n",
       "      <td>236</td>\n",
       "      <td>0</td>\n",
       "      <td>1</td>\n",
       "      <td>178</td>\n",
       "      <td>0</td>\n",
       "      <td>0.8</td>\n",
       "      <td>2</td>\n",
       "      <td>0</td>\n",
       "      <td>1</td>\n",
       "      <td>1</td>\n",
       "    </tr>\n",
       "    <tr>\n",
       "      <th>4</th>\n",
       "      <td>57</td>\n",
       "      <td>0</td>\n",
       "      <td>0</td>\n",
       "      <td>120</td>\n",
       "      <td>354</td>\n",
       "      <td>0</td>\n",
       "      <td>1</td>\n",
       "      <td>163</td>\n",
       "      <td>1</td>\n",
       "      <td>0.6</td>\n",
       "      <td>2</td>\n",
       "      <td>0</td>\n",
       "      <td>1</td>\n",
       "      <td>1</td>\n",
       "    </tr>\n",
       "  </tbody>\n",
       "</table>\n",
       "</div>"
      ],
      "text/plain": [
       "   age  sex  cp  trestbps  chol  fbs  restecg  thalach  exang  oldpeak  slope  \\\n",
       "0   63    1   3       145   233    1        0      150      0      2.3      0   \n",
       "1   37    1   2       130   250    0        1      187      0      3.5      0   \n",
       "2   41    0   1       130   204    0        0      172      0      1.4      2   \n",
       "3   56    1   1       120   236    0        1      178      0      0.8      2   \n",
       "4   57    0   0       120   354    0        1      163      1      0.6      2   \n",
       "\n",
       "   ca  thal  target  \n",
       "0   0     0       1  \n",
       "1   0     1       1  \n",
       "2   0     1       1  \n",
       "3   0     1       1  \n",
       "4   0     1       1  "
      ]
     },
     "execution_count": 1,
     "metadata": {},
     "output_type": "execute_result"
    }
   ],
   "source": [
    "import pandas as pd # these are the same as Lab 6\n",
    "\n",
    "import matplotlib.pyplot as plt\n",
    "import seaborn as sns\n",
    "\n",
    "sns.set()\n",
    "\n",
    "hd = pd.read_csv('data/heart.csv')\n",
    "hd.head()"
   ]
  },
  {
   "cell_type": "markdown",
   "metadata": {},
   "source": [
    "This data is well and good, though it is a little vague, especially to non-medical professionals. We should consider first changing the names of the columns to something more descriptive. The following code renames the columns sequentially. "
   ]
  },
  {
   "cell_type": "code",
   "execution_count": 2,
   "metadata": {},
   "outputs": [],
   "source": [
    "hd.columns = [\n",
    "    'age', \n",
    "    'sex', \n",
    "    'chest_pain_experienced', \n",
    "    'resting_blood_pressure', \n",
    "    'cholesterol', \n",
    "    'fasting_blood_sugar', \n",
    "    'electrocardiograph',\n",
    "    'maximum_heart_rate',\n",
    "    'exercise_induced_angina',\n",
    "    'st_depression',\n",
    "    'st_slope',\n",
    "    'major_vessels',\n",
    "    'thalassemia',\n",
    "    'target'\n",
    "]"
   ]
  },
  {
   "cell_type": "code",
   "execution_count": 3,
   "metadata": {},
   "outputs": [],
   "source": [
    "men = hd[hd[\"sex\"] == 1]"
   ]
  },
  {
   "cell_type": "code",
   "execution_count": 4,
   "metadata": {},
   "outputs": [
    {
     "data": {
      "text/html": [
       "<div>\n",
       "<style scoped>\n",
       "    .dataframe tbody tr th:only-of-type {\n",
       "        vertical-align: middle;\n",
       "    }\n",
       "\n",
       "    .dataframe tbody tr th {\n",
       "        vertical-align: top;\n",
       "    }\n",
       "\n",
       "    .dataframe thead th {\n",
       "        text-align: right;\n",
       "    }\n",
       "</style>\n",
       "<table border=\"1\" class=\"dataframe\">\n",
       "  <thead>\n",
       "    <tr style=\"text-align: right;\">\n",
       "      <th></th>\n",
       "      <th>age</th>\n",
       "      <th>sex</th>\n",
       "      <th>chest_pain_experienced</th>\n",
       "      <th>resting_blood_pressure</th>\n",
       "      <th>cholesterol</th>\n",
       "      <th>fasting_blood_sugar</th>\n",
       "      <th>electrocardiograph</th>\n",
       "      <th>maximum_heart_rate</th>\n",
       "      <th>exercise_induced_angina</th>\n",
       "      <th>st_depression</th>\n",
       "      <th>st_slope</th>\n",
       "      <th>major_vessels</th>\n",
       "      <th>thalassemia</th>\n",
       "      <th>target</th>\n",
       "    </tr>\n",
       "  </thead>\n",
       "  <tbody>\n",
       "    <tr>\n",
       "      <th>0</th>\n",
       "      <td>63</td>\n",
       "      <td>1</td>\n",
       "      <td>3</td>\n",
       "      <td>145</td>\n",
       "      <td>233</td>\n",
       "      <td>1</td>\n",
       "      <td>0</td>\n",
       "      <td>150</td>\n",
       "      <td>0</td>\n",
       "      <td>2.3</td>\n",
       "      <td>0</td>\n",
       "      <td>0</td>\n",
       "      <td>0</td>\n",
       "      <td>1</td>\n",
       "    </tr>\n",
       "    <tr>\n",
       "      <th>1</th>\n",
       "      <td>37</td>\n",
       "      <td>1</td>\n",
       "      <td>2</td>\n",
       "      <td>130</td>\n",
       "      <td>250</td>\n",
       "      <td>0</td>\n",
       "      <td>1</td>\n",
       "      <td>187</td>\n",
       "      <td>0</td>\n",
       "      <td>3.5</td>\n",
       "      <td>0</td>\n",
       "      <td>0</td>\n",
       "      <td>1</td>\n",
       "      <td>1</td>\n",
       "    </tr>\n",
       "    <tr>\n",
       "      <th>3</th>\n",
       "      <td>56</td>\n",
       "      <td>1</td>\n",
       "      <td>1</td>\n",
       "      <td>120</td>\n",
       "      <td>236</td>\n",
       "      <td>0</td>\n",
       "      <td>1</td>\n",
       "      <td>178</td>\n",
       "      <td>0</td>\n",
       "      <td>0.8</td>\n",
       "      <td>2</td>\n",
       "      <td>0</td>\n",
       "      <td>1</td>\n",
       "      <td>1</td>\n",
       "    </tr>\n",
       "    <tr>\n",
       "      <th>5</th>\n",
       "      <td>57</td>\n",
       "      <td>1</td>\n",
       "      <td>0</td>\n",
       "      <td>140</td>\n",
       "      <td>192</td>\n",
       "      <td>0</td>\n",
       "      <td>1</td>\n",
       "      <td>148</td>\n",
       "      <td>0</td>\n",
       "      <td>0.4</td>\n",
       "      <td>1</td>\n",
       "      <td>0</td>\n",
       "      <td>0</td>\n",
       "      <td>1</td>\n",
       "    </tr>\n",
       "    <tr>\n",
       "      <th>7</th>\n",
       "      <td>44</td>\n",
       "      <td>1</td>\n",
       "      <td>1</td>\n",
       "      <td>120</td>\n",
       "      <td>263</td>\n",
       "      <td>0</td>\n",
       "      <td>1</td>\n",
       "      <td>173</td>\n",
       "      <td>0</td>\n",
       "      <td>0.0</td>\n",
       "      <td>2</td>\n",
       "      <td>0</td>\n",
       "      <td>2</td>\n",
       "      <td>1</td>\n",
       "    </tr>\n",
       "    <tr>\n",
       "      <th>...</th>\n",
       "      <td>...</td>\n",
       "      <td>...</td>\n",
       "      <td>...</td>\n",
       "      <td>...</td>\n",
       "      <td>...</td>\n",
       "      <td>...</td>\n",
       "      <td>...</td>\n",
       "      <td>...</td>\n",
       "      <td>...</td>\n",
       "      <td>...</td>\n",
       "      <td>...</td>\n",
       "      <td>...</td>\n",
       "      <td>...</td>\n",
       "      <td>...</td>\n",
       "    </tr>\n",
       "    <tr>\n",
       "      <th>295</th>\n",
       "      <td>63</td>\n",
       "      <td>1</td>\n",
       "      <td>0</td>\n",
       "      <td>140</td>\n",
       "      <td>187</td>\n",
       "      <td>0</td>\n",
       "      <td>0</td>\n",
       "      <td>144</td>\n",
       "      <td>1</td>\n",
       "      <td>4.0</td>\n",
       "      <td>2</td>\n",
       "      <td>2</td>\n",
       "      <td>2</td>\n",
       "      <td>0</td>\n",
       "    </tr>\n",
       "    <tr>\n",
       "      <th>297</th>\n",
       "      <td>59</td>\n",
       "      <td>1</td>\n",
       "      <td>0</td>\n",
       "      <td>164</td>\n",
       "      <td>176</td>\n",
       "      <td>1</td>\n",
       "      <td>0</td>\n",
       "      <td>90</td>\n",
       "      <td>0</td>\n",
       "      <td>1.0</td>\n",
       "      <td>1</td>\n",
       "      <td>2</td>\n",
       "      <td>0</td>\n",
       "      <td>0</td>\n",
       "    </tr>\n",
       "    <tr>\n",
       "      <th>299</th>\n",
       "      <td>45</td>\n",
       "      <td>1</td>\n",
       "      <td>3</td>\n",
       "      <td>110</td>\n",
       "      <td>264</td>\n",
       "      <td>0</td>\n",
       "      <td>1</td>\n",
       "      <td>132</td>\n",
       "      <td>0</td>\n",
       "      <td>1.2</td>\n",
       "      <td>1</td>\n",
       "      <td>0</td>\n",
       "      <td>2</td>\n",
       "      <td>0</td>\n",
       "    </tr>\n",
       "    <tr>\n",
       "      <th>300</th>\n",
       "      <td>68</td>\n",
       "      <td>1</td>\n",
       "      <td>0</td>\n",
       "      <td>144</td>\n",
       "      <td>193</td>\n",
       "      <td>1</td>\n",
       "      <td>1</td>\n",
       "      <td>141</td>\n",
       "      <td>0</td>\n",
       "      <td>3.4</td>\n",
       "      <td>1</td>\n",
       "      <td>2</td>\n",
       "      <td>2</td>\n",
       "      <td>0</td>\n",
       "    </tr>\n",
       "    <tr>\n",
       "      <th>301</th>\n",
       "      <td>57</td>\n",
       "      <td>1</td>\n",
       "      <td>0</td>\n",
       "      <td>130</td>\n",
       "      <td>131</td>\n",
       "      <td>0</td>\n",
       "      <td>1</td>\n",
       "      <td>115</td>\n",
       "      <td>1</td>\n",
       "      <td>1.2</td>\n",
       "      <td>1</td>\n",
       "      <td>1</td>\n",
       "      <td>2</td>\n",
       "      <td>0</td>\n",
       "    </tr>\n",
       "  </tbody>\n",
       "</table>\n",
       "<p>207 rows × 14 columns</p>\n",
       "</div>"
      ],
      "text/plain": [
       "     age  sex  chest_pain_experienced  resting_blood_pressure  cholesterol  \\\n",
       "0     63    1                       3                     145          233   \n",
       "1     37    1                       2                     130          250   \n",
       "3     56    1                       1                     120          236   \n",
       "5     57    1                       0                     140          192   \n",
       "7     44    1                       1                     120          263   \n",
       "..   ...  ...                     ...                     ...          ...   \n",
       "295   63    1                       0                     140          187   \n",
       "297   59    1                       0                     164          176   \n",
       "299   45    1                       3                     110          264   \n",
       "300   68    1                       0                     144          193   \n",
       "301   57    1                       0                     130          131   \n",
       "\n",
       "     fasting_blood_sugar  electrocardiograph  maximum_heart_rate  \\\n",
       "0                      1                   0                 150   \n",
       "1                      0                   1                 187   \n",
       "3                      0                   1                 178   \n",
       "5                      0                   1                 148   \n",
       "7                      0                   1                 173   \n",
       "..                   ...                 ...                 ...   \n",
       "295                    0                   0                 144   \n",
       "297                    1                   0                  90   \n",
       "299                    0                   1                 132   \n",
       "300                    1                   1                 141   \n",
       "301                    0                   1                 115   \n",
       "\n",
       "     exercise_induced_angina  st_depression  st_slope  major_vessels  \\\n",
       "0                          0            2.3         0              0   \n",
       "1                          0            3.5         0              0   \n",
       "3                          0            0.8         2              0   \n",
       "5                          0            0.4         1              0   \n",
       "7                          0            0.0         2              0   \n",
       "..                       ...            ...       ...            ...   \n",
       "295                        1            4.0         2              2   \n",
       "297                        0            1.0         1              2   \n",
       "299                        0            1.2         1              0   \n",
       "300                        0            3.4         1              2   \n",
       "301                        1            1.2         1              1   \n",
       "\n",
       "     thalassemia  target  \n",
       "0              0       1  \n",
       "1              1       1  \n",
       "3              1       1  \n",
       "5              0       1  \n",
       "7              2       1  \n",
       "..           ...     ...  \n",
       "295            2       0  \n",
       "297            0       0  \n",
       "299            2       0  \n",
       "300            2       0  \n",
       "301            2       0  \n",
       "\n",
       "[207 rows x 14 columns]"
      ]
     },
     "execution_count": 4,
     "metadata": {},
     "output_type": "execute_result"
    }
   ],
   "source": [
    "men"
   ]
  },
  {
   "cell_type": "code",
   "execution_count": 5,
   "metadata": {},
   "outputs": [],
   "source": [
    "means_men = men.groupby(by=\"chest_pain_experienced\").mean()"
   ]
  },
  {
   "cell_type": "code",
   "execution_count": 6,
   "metadata": {},
   "outputs": [
    {
     "data": {
      "text/html": [
       "<div>\n",
       "<style scoped>\n",
       "    .dataframe tbody tr th:only-of-type {\n",
       "        vertical-align: middle;\n",
       "    }\n",
       "\n",
       "    .dataframe tbody tr th {\n",
       "        vertical-align: top;\n",
       "    }\n",
       "\n",
       "    .dataframe thead th {\n",
       "        text-align: right;\n",
       "    }\n",
       "</style>\n",
       "<table border=\"1\" class=\"dataframe\">\n",
       "  <thead>\n",
       "    <tr style=\"text-align: right;\">\n",
       "      <th></th>\n",
       "      <th>age</th>\n",
       "      <th>sex</th>\n",
       "      <th>resting_blood_pressure</th>\n",
       "      <th>cholesterol</th>\n",
       "      <th>fasting_blood_sugar</th>\n",
       "      <th>electrocardiograph</th>\n",
       "      <th>maximum_heart_rate</th>\n",
       "      <th>exercise_induced_angina</th>\n",
       "      <th>st_depression</th>\n",
       "      <th>st_slope</th>\n",
       "      <th>major_vessels</th>\n",
       "      <th>thalassemia</th>\n",
       "      <th>target</th>\n",
       "    </tr>\n",
       "    <tr>\n",
       "      <th>chest_pain_experienced</th>\n",
       "      <th></th>\n",
       "      <th></th>\n",
       "      <th></th>\n",
       "      <th></th>\n",
       "      <th></th>\n",
       "      <th></th>\n",
       "      <th></th>\n",
       "      <th></th>\n",
       "      <th></th>\n",
       "      <th></th>\n",
       "      <th></th>\n",
       "      <th></th>\n",
       "      <th></th>\n",
       "    </tr>\n",
       "  </thead>\n",
       "  <tbody>\n",
       "    <tr>\n",
       "      <th>0</th>\n",
       "      <td>55.105769</td>\n",
       "      <td>1.0</td>\n",
       "      <td>129.557692</td>\n",
       "      <td>243.605769</td>\n",
       "      <td>0.125000</td>\n",
       "      <td>0.451923</td>\n",
       "      <td>138.759615</td>\n",
       "      <td>0.596154</td>\n",
       "      <td>1.393269</td>\n",
       "      <td>1.288462</td>\n",
       "      <td>1.019231</td>\n",
       "      <td>1.519231</td>\n",
       "      <td>0.201923</td>\n",
       "    </tr>\n",
       "    <tr>\n",
       "      <th>1</th>\n",
       "      <td>51.031250</td>\n",
       "      <td>1.0</td>\n",
       "      <td>128.593750</td>\n",
       "      <td>241.031250</td>\n",
       "      <td>0.093750</td>\n",
       "      <td>0.656250</td>\n",
       "      <td>162.187500</td>\n",
       "      <td>0.062500</td>\n",
       "      <td>0.234375</td>\n",
       "      <td>1.687500</td>\n",
       "      <td>0.343750</td>\n",
       "      <td>1.218750</td>\n",
       "      <td>0.781250</td>\n",
       "    </tr>\n",
       "    <tr>\n",
       "      <th>2</th>\n",
       "      <td>52.538462</td>\n",
       "      <td>1.0</td>\n",
       "      <td>132.057692</td>\n",
       "      <td>231.134615</td>\n",
       "      <td>0.250000</td>\n",
       "      <td>0.596154</td>\n",
       "      <td>158.173077</td>\n",
       "      <td>0.173077</td>\n",
       "      <td>1.015385</td>\n",
       "      <td>1.461538</td>\n",
       "      <td>0.807692</td>\n",
       "      <td>1.326923</td>\n",
       "      <td>0.673077</td>\n",
       "    </tr>\n",
       "    <tr>\n",
       "      <th>3</th>\n",
       "      <td>54.315789</td>\n",
       "      <td>1.0</td>\n",
       "      <td>139.473684</td>\n",
       "      <td>235.052632</td>\n",
       "      <td>0.210526</td>\n",
       "      <td>0.315789</td>\n",
       "      <td>157.315789</td>\n",
       "      <td>0.210526</td>\n",
       "      <td>1.352632</td>\n",
       "      <td>1.210526</td>\n",
       "      <td>0.473684</td>\n",
       "      <td>1.315789</td>\n",
       "      <td>0.631579</td>\n",
       "    </tr>\n",
       "  </tbody>\n",
       "</table>\n",
       "</div>"
      ],
      "text/plain": [
       "                              age  sex  resting_blood_pressure  cholesterol  \\\n",
       "chest_pain_experienced                                                        \n",
       "0                       55.105769  1.0              129.557692   243.605769   \n",
       "1                       51.031250  1.0              128.593750   241.031250   \n",
       "2                       52.538462  1.0              132.057692   231.134615   \n",
       "3                       54.315789  1.0              139.473684   235.052632   \n",
       "\n",
       "                        fasting_blood_sugar  electrocardiograph  \\\n",
       "chest_pain_experienced                                            \n",
       "0                                  0.125000            0.451923   \n",
       "1                                  0.093750            0.656250   \n",
       "2                                  0.250000            0.596154   \n",
       "3                                  0.210526            0.315789   \n",
       "\n",
       "                        maximum_heart_rate  exercise_induced_angina  \\\n",
       "chest_pain_experienced                                                \n",
       "0                               138.759615                 0.596154   \n",
       "1                               162.187500                 0.062500   \n",
       "2                               158.173077                 0.173077   \n",
       "3                               157.315789                 0.210526   \n",
       "\n",
       "                        st_depression  st_slope  major_vessels  thalassemia  \\\n",
       "chest_pain_experienced                                                        \n",
       "0                            1.393269  1.288462       1.019231     1.519231   \n",
       "1                            0.234375  1.687500       0.343750     1.218750   \n",
       "2                            1.015385  1.461538       0.807692     1.326923   \n",
       "3                            1.352632  1.210526       0.473684     1.315789   \n",
       "\n",
       "                          target  \n",
       "chest_pain_experienced            \n",
       "0                       0.201923  \n",
       "1                       0.781250  \n",
       "2                       0.673077  \n",
       "3                       0.631579  "
      ]
     },
     "execution_count": 6,
     "metadata": {},
     "output_type": "execute_result"
    }
   ],
   "source": [
    "means_men"
   ]
  },
  {
   "cell_type": "code",
   "execution_count": 7,
   "metadata": {},
   "outputs": [],
   "source": [
    "women = hd[hd[\"sex\"] == 0]"
   ]
  },
  {
   "cell_type": "code",
   "execution_count": 8,
   "metadata": {},
   "outputs": [],
   "source": [
    "means_women = women.groupby(by=\"chest_pain_experienced\").mean()"
   ]
  },
  {
   "cell_type": "code",
   "execution_count": 9,
   "metadata": {},
   "outputs": [
    {
     "data": {
      "text/html": [
       "<div>\n",
       "<style scoped>\n",
       "    .dataframe tbody tr th:only-of-type {\n",
       "        vertical-align: middle;\n",
       "    }\n",
       "\n",
       "    .dataframe tbody tr th {\n",
       "        vertical-align: top;\n",
       "    }\n",
       "\n",
       "    .dataframe thead th {\n",
       "        text-align: right;\n",
       "    }\n",
       "</style>\n",
       "<table border=\"1\" class=\"dataframe\">\n",
       "  <thead>\n",
       "    <tr style=\"text-align: right;\">\n",
       "      <th></th>\n",
       "      <th>age</th>\n",
       "      <th>sex</th>\n",
       "      <th>resting_blood_pressure</th>\n",
       "      <th>cholesterol</th>\n",
       "      <th>fasting_blood_sugar</th>\n",
       "      <th>electrocardiograph</th>\n",
       "      <th>maximum_heart_rate</th>\n",
       "      <th>exercise_induced_angina</th>\n",
       "      <th>st_depression</th>\n",
       "      <th>st_slope</th>\n",
       "      <th>major_vessels</th>\n",
       "      <th>thalassemia</th>\n",
       "      <th>target</th>\n",
       "    </tr>\n",
       "    <tr>\n",
       "      <th>chest_pain_experienced</th>\n",
       "      <th></th>\n",
       "      <th></th>\n",
       "      <th></th>\n",
       "      <th></th>\n",
       "      <th></th>\n",
       "      <th></th>\n",
       "      <th></th>\n",
       "      <th></th>\n",
       "      <th></th>\n",
       "      <th></th>\n",
       "      <th></th>\n",
       "      <th></th>\n",
       "      <th></th>\n",
       "    </tr>\n",
       "  </thead>\n",
       "  <tbody>\n",
       "    <tr>\n",
       "      <th>0</th>\n",
       "      <td>57.256410</td>\n",
       "      <td>0.0</td>\n",
       "      <td>138.589744</td>\n",
       "      <td>267.538462</td>\n",
       "      <td>0.128205</td>\n",
       "      <td>0.538462</td>\n",
       "      <td>145.282051</td>\n",
       "      <td>0.461538</td>\n",
       "      <td>1.356410</td>\n",
       "      <td>1.179487</td>\n",
       "      <td>0.820513</td>\n",
       "      <td>1.282051</td>\n",
       "      <td>0.461538</td>\n",
       "    </tr>\n",
       "    <tr>\n",
       "      <th>1</th>\n",
       "      <td>51.944444</td>\n",
       "      <td>0.0</td>\n",
       "      <td>128.055556</td>\n",
       "      <td>251.444444</td>\n",
       "      <td>0.111111</td>\n",
       "      <td>0.555556</td>\n",
       "      <td>162.833333</td>\n",
       "      <td>0.111111</td>\n",
       "      <td>0.461111</td>\n",
       "      <td>1.666667</td>\n",
       "      <td>0.555556</td>\n",
       "      <td>1.000000</td>\n",
       "      <td>0.888889</td>\n",
       "    </tr>\n",
       "    <tr>\n",
       "      <th>2</th>\n",
       "      <td>54.971429</td>\n",
       "      <td>0.0</td>\n",
       "      <td>127.885714</td>\n",
       "      <td>261.057143</td>\n",
       "      <td>0.114286</td>\n",
       "      <td>0.600000</td>\n",
       "      <td>151.800000</td>\n",
       "      <td>0.057143</td>\n",
       "      <td>0.474286</td>\n",
       "      <td>1.571429</td>\n",
       "      <td>0.257143</td>\n",
       "      <td>1.057143</td>\n",
       "      <td>0.971429</td>\n",
       "    </tr>\n",
       "    <tr>\n",
       "      <th>3</th>\n",
       "      <td>63.250000</td>\n",
       "      <td>0.0</td>\n",
       "      <td>147.500000</td>\n",
       "      <td>247.000000</td>\n",
       "      <td>0.250000</td>\n",
       "      <td>0.750000</td>\n",
       "      <td>149.500000</td>\n",
       "      <td>0.000000</td>\n",
       "      <td>1.575000</td>\n",
       "      <td>1.500000</td>\n",
       "      <td>0.500000</td>\n",
       "      <td>1.000000</td>\n",
       "      <td>1.000000</td>\n",
       "    </tr>\n",
       "  </tbody>\n",
       "</table>\n",
       "</div>"
      ],
      "text/plain": [
       "                              age  sex  resting_blood_pressure  cholesterol  \\\n",
       "chest_pain_experienced                                                        \n",
       "0                       57.256410  0.0              138.589744   267.538462   \n",
       "1                       51.944444  0.0              128.055556   251.444444   \n",
       "2                       54.971429  0.0              127.885714   261.057143   \n",
       "3                       63.250000  0.0              147.500000   247.000000   \n",
       "\n",
       "                        fasting_blood_sugar  electrocardiograph  \\\n",
       "chest_pain_experienced                                            \n",
       "0                                  0.128205            0.538462   \n",
       "1                                  0.111111            0.555556   \n",
       "2                                  0.114286            0.600000   \n",
       "3                                  0.250000            0.750000   \n",
       "\n",
       "                        maximum_heart_rate  exercise_induced_angina  \\\n",
       "chest_pain_experienced                                                \n",
       "0                               145.282051                 0.461538   \n",
       "1                               162.833333                 0.111111   \n",
       "2                               151.800000                 0.057143   \n",
       "3                               149.500000                 0.000000   \n",
       "\n",
       "                        st_depression  st_slope  major_vessels  thalassemia  \\\n",
       "chest_pain_experienced                                                        \n",
       "0                            1.356410  1.179487       0.820513     1.282051   \n",
       "1                            0.461111  1.666667       0.555556     1.000000   \n",
       "2                            0.474286  1.571429       0.257143     1.057143   \n",
       "3                            1.575000  1.500000       0.500000     1.000000   \n",
       "\n",
       "                          target  \n",
       "chest_pain_experienced            \n",
       "0                       0.461538  \n",
       "1                       0.888889  \n",
       "2                       0.971429  \n",
       "3                       1.000000  "
      ]
     },
     "execution_count": 9,
     "metadata": {},
     "output_type": "execute_result"
    }
   ],
   "source": [
    "means_women"
   ]
  },
  {
   "cell_type": "code",
   "execution_count": 10,
   "metadata": {},
   "outputs": [],
   "source": [
    "means = hd.groupby(by=\"chest_pain_experienced\").mean()"
   ]
  },
  {
   "cell_type": "code",
   "execution_count": 11,
   "metadata": {},
   "outputs": [
    {
     "data": {
      "text/html": [
       "<div>\n",
       "<style scoped>\n",
       "    .dataframe tbody tr th:only-of-type {\n",
       "        vertical-align: middle;\n",
       "    }\n",
       "\n",
       "    .dataframe tbody tr th {\n",
       "        vertical-align: top;\n",
       "    }\n",
       "\n",
       "    .dataframe thead th {\n",
       "        text-align: right;\n",
       "    }\n",
       "</style>\n",
       "<table border=\"1\" class=\"dataframe\">\n",
       "  <thead>\n",
       "    <tr style=\"text-align: right;\">\n",
       "      <th></th>\n",
       "      <th>age</th>\n",
       "      <th>sex</th>\n",
       "      <th>resting_blood_pressure</th>\n",
       "      <th>cholesterol</th>\n",
       "      <th>fasting_blood_sugar</th>\n",
       "      <th>electrocardiograph</th>\n",
       "      <th>maximum_heart_rate</th>\n",
       "      <th>exercise_induced_angina</th>\n",
       "      <th>st_depression</th>\n",
       "      <th>st_slope</th>\n",
       "      <th>major_vessels</th>\n",
       "      <th>thalassemia</th>\n",
       "      <th>target</th>\n",
       "    </tr>\n",
       "    <tr>\n",
       "      <th>chest_pain_experienced</th>\n",
       "      <th></th>\n",
       "      <th></th>\n",
       "      <th></th>\n",
       "      <th></th>\n",
       "      <th></th>\n",
       "      <th></th>\n",
       "      <th></th>\n",
       "      <th></th>\n",
       "      <th></th>\n",
       "      <th></th>\n",
       "      <th></th>\n",
       "      <th></th>\n",
       "      <th></th>\n",
       "    </tr>\n",
       "  </thead>\n",
       "  <tbody>\n",
       "    <tr>\n",
       "      <th>0</th>\n",
       "      <td>55.692308</td>\n",
       "      <td>0.727273</td>\n",
       "      <td>132.020979</td>\n",
       "      <td>250.132867</td>\n",
       "      <td>0.125874</td>\n",
       "      <td>0.475524</td>\n",
       "      <td>140.538462</td>\n",
       "      <td>0.559441</td>\n",
       "      <td>1.383217</td>\n",
       "      <td>1.258741</td>\n",
       "      <td>0.965035</td>\n",
       "      <td>1.454545</td>\n",
       "      <td>0.272727</td>\n",
       "    </tr>\n",
       "    <tr>\n",
       "      <th>1</th>\n",
       "      <td>51.360000</td>\n",
       "      <td>0.640000</td>\n",
       "      <td>128.400000</td>\n",
       "      <td>244.780000</td>\n",
       "      <td>0.100000</td>\n",
       "      <td>0.620000</td>\n",
       "      <td>162.420000</td>\n",
       "      <td>0.080000</td>\n",
       "      <td>0.316000</td>\n",
       "      <td>1.680000</td>\n",
       "      <td>0.420000</td>\n",
       "      <td>1.140000</td>\n",
       "      <td>0.820000</td>\n",
       "    </tr>\n",
       "    <tr>\n",
       "      <th>2</th>\n",
       "      <td>53.517241</td>\n",
       "      <td>0.597701</td>\n",
       "      <td>130.379310</td>\n",
       "      <td>243.172414</td>\n",
       "      <td>0.195402</td>\n",
       "      <td>0.597701</td>\n",
       "      <td>155.609195</td>\n",
       "      <td>0.126437</td>\n",
       "      <td>0.797701</td>\n",
       "      <td>1.505747</td>\n",
       "      <td>0.586207</td>\n",
       "      <td>1.218391</td>\n",
       "      <td>0.793103</td>\n",
       "    </tr>\n",
       "    <tr>\n",
       "      <th>3</th>\n",
       "      <td>55.869565</td>\n",
       "      <td>0.826087</td>\n",
       "      <td>140.869565</td>\n",
       "      <td>237.130435</td>\n",
       "      <td>0.217391</td>\n",
       "      <td>0.391304</td>\n",
       "      <td>155.956522</td>\n",
       "      <td>0.173913</td>\n",
       "      <td>1.391304</td>\n",
       "      <td>1.260870</td>\n",
       "      <td>0.478261</td>\n",
       "      <td>1.260870</td>\n",
       "      <td>0.695652</td>\n",
       "    </tr>\n",
       "  </tbody>\n",
       "</table>\n",
       "</div>"
      ],
      "text/plain": [
       "                              age       sex  resting_blood_pressure  \\\n",
       "chest_pain_experienced                                                \n",
       "0                       55.692308  0.727273              132.020979   \n",
       "1                       51.360000  0.640000              128.400000   \n",
       "2                       53.517241  0.597701              130.379310   \n",
       "3                       55.869565  0.826087              140.869565   \n",
       "\n",
       "                        cholesterol  fasting_blood_sugar  electrocardiograph  \\\n",
       "chest_pain_experienced                                                         \n",
       "0                        250.132867             0.125874            0.475524   \n",
       "1                        244.780000             0.100000            0.620000   \n",
       "2                        243.172414             0.195402            0.597701   \n",
       "3                        237.130435             0.217391            0.391304   \n",
       "\n",
       "                        maximum_heart_rate  exercise_induced_angina  \\\n",
       "chest_pain_experienced                                                \n",
       "0                               140.538462                 0.559441   \n",
       "1                               162.420000                 0.080000   \n",
       "2                               155.609195                 0.126437   \n",
       "3                               155.956522                 0.173913   \n",
       "\n",
       "                        st_depression  st_slope  major_vessels  thalassemia  \\\n",
       "chest_pain_experienced                                                        \n",
       "0                            1.383217  1.258741       0.965035     1.454545   \n",
       "1                            0.316000  1.680000       0.420000     1.140000   \n",
       "2                            0.797701  1.505747       0.586207     1.218391   \n",
       "3                            1.391304  1.260870       0.478261     1.260870   \n",
       "\n",
       "                          target  \n",
       "chest_pain_experienced            \n",
       "0                       0.272727  \n",
       "1                       0.820000  \n",
       "2                       0.793103  \n",
       "3                       0.695652  "
      ]
     },
     "execution_count": 11,
     "metadata": {},
     "output_type": "execute_result"
    }
   ],
   "source": [
    "means"
   ]
  },
  {
   "cell_type": "markdown",
   "metadata": {},
   "source": [
    "### Visualize the data and understand the indicators\n",
    "One of the first things we should do is understand our task. As mentioned in the introduction, our goal is to build an algorithm that can predict whether or not a patient has heart disease, based on their health data. As such, the first thing we should do is observe the number of target variables, which are the indicators of whether someone actually has heart disease. We will find that this data consists of 165 records of patients who were diagnosed with heart disease (`target == 1`) and 138 records of patients who did not have heart disease (`target == 0`). "
   ]
  },
  {
   "cell_type": "code",
   "execution_count": 12,
   "metadata": {},
   "outputs": [
    {
     "data": {
      "text/plain": [
       "<AxesSubplot:xlabel='target', ylabel='count'>"
      ]
     },
     "execution_count": 12,
     "metadata": {},
     "output_type": "execute_result"
    },
    {
     "data": {
      "image/png": "[encoded data removed]",
      "text/plain": [
       "<Figure size 432x288 with 1 Axes>"
      ]
     },
     "metadata": {},
     "output_type": "display_data"
    }
   ],
   "source": [
    "sns.countplot(x=\"target\", data=hd) # countplots are ways of visualizing counts in seaborn"
   ]
  },
  {
   "cell_type": "markdown",
   "metadata": {},
   "source": [
    "#### Scatterplots\n",
    "Now that we understand the data, we can explore it. One thing that stood out to me was that we had age and maximum_heart_rate records. It is well known that your heart rate maximum decreases as you age, though people with heart disease also have higher heart rates. A simple way to explore these relationships could be to create a scatter plot that visualizes these three factors. The plot below uses seaborn to achieve this."
   ]
  },
  {
   "cell_type": "code",
   "execution_count": 13,
   "metadata": {},
   "outputs": [
    {
     "data": {
      "text/plain": [
       "<AxesSubplot:xlabel='maximum_heart_rate', ylabel='age'>"
      ]
     },
     "execution_count": 13,
     "metadata": {},
     "output_type": "execute_result"
    },
    {
     "data": {
      "image/png": "[encoded data removed]",
      "text/plain": [
       "<Figure size 432x288 with 1 Axes>"
      ]
     },
     "metadata": {},
     "output_type": "display_data"
    }
   ],
   "source": [
    "sns.scatterplot(data=hd, x=\"maximum_heart_rate\", y=\"age\", hue=\"target\")"
   ]
  },
  {
   "cell_type": "markdown",
   "metadata": {},
   "source": [
    "#### Using stats to assess factors\n",
    "It looks like there may be a relationship between these factors, perhaps most notably, `maximum_heart_rate`. This data is structured in a way that we could easily compare the distribution of our samples, similarly to Lab 7. For example, we could observe the Pearson correlation of `maximum_heart_rate` and `age` to determine whether these are correlated. The code below executes this correlation; they are moderately negatively correlated (as expected) with a very low p-value, suggesting that the correlation is significant. "
   ]
  },
  {
   "cell_type": "code",
   "execution_count": 14,
   "metadata": {},
   "outputs": [
    {
     "data": {
      "text/plain": [
       "(-0.39852193812106723, 5.628106676351307e-13)"
      ]
     },
     "execution_count": 14,
     "metadata": {},
     "output_type": "execute_result"
    }
   ],
   "source": [
    "from scipy import stats\n",
    "stats.pearsonr(hd[\"maximum_heart_rate\"], hd[\"age\"])"
   ]
  },
  {
   "cell_type": "markdown",
   "metadata": {},
   "source": [
    "Similarly, we could visualize the `maximum_heart_rate` in light of the target and non-target (diseased and non-disease) records. This will reveal very interesting and suggestive distributions. "
   ]
  },
  {
   "cell_type": "code",
   "execution_count": 15,
   "metadata": {},
   "outputs": [
    {
     "data": {
      "text/plain": [
       "<seaborn.axisgrid.FacetGrid at 0x29c6de6c730>"
      ]
     },
     "execution_count": 15,
     "metadata": {},
     "output_type": "execute_result"
    },
    {
     "data": {
      "image/png": "[encoded data removed]",
      "text/plain": [
       "<Figure size 405.725x360 with 1 Axes>"
      ]
     },
     "metadata": {},
     "output_type": "display_data"
    }
   ],
   "source": [
    "sns.displot(hd, x=\"maximum_heart_rate\", hue=\"target\")"
   ]
  },
  {
   "cell_type": "markdown",
   "metadata": {},
   "source": [
    "We can similarly run a Pearson correlation on this data, which again suggests a positive correlation between `maximum_heart_rate` and `target`. __Note:__ We could have also run a t-test here to observe whether people with heart disease are likely to have a higher maximum heart rate (which would have indicated ...yes). "
   ]
  },
  {
   "cell_type": "code",
   "execution_count": 16,
   "metadata": {},
   "outputs": [
    {
     "data": {
      "text/plain": [
       "(0.4217409338106745, 1.6973376386561237e-14)"
      ]
     },
     "execution_count": 16,
     "metadata": {},
     "output_type": "execute_result"
    }
   ],
   "source": [
    "stats.pearsonr(hd[\"maximum_heart_rate\"], hd[\"target\"])"
   ]
  },
  {
   "cell_type": "markdown",
   "metadata": {},
   "source": [
    "#### Visualizing nominal variables\n",
    "One of the differences between this data set and what we have seen before is that there are many nominal variables (e.g. variables that are categories). In this case, `thalassemia` indicates one of three states: 0: it has been fixed, 1: the patient has it and 2: that it is \"reversable\". I am not qualified to speak more about this beyond speculation, though the [literature](https://www.sciencedirect.com/science/article/abs/pii/0002914989905249) suggests that this is a relevant predictor. \n",
    "\n",
    "Seaborn's catplot can be used to visualize the counts of these three states. The code below describes the frequencies for each of the target conditions. This brings us to the end of our initial exploration... it will be up to you to continue this!"
   ]
  },
  {
   "cell_type": "code",
   "execution_count": 17,
   "metadata": {},
   "outputs": [
    {
     "data": {
      "text/plain": [
       "<seaborn.axisgrid.FacetGrid at 0x29c6dc3b940>"
      ]
     },
     "execution_count": 17,
     "metadata": {},
     "output_type": "execute_result"
    },
    {
     "data": {
      "image/png": "[encoded data removed]",
      "text/plain": [
       "<Figure size 691.2x288 with 3 Axes>"
      ]
     },
     "metadata": {},
     "output_type": "display_data"
    }
   ],
   "source": [
    "sns.catplot(x=\"target\", col=\"thalassemia\", col_wrap=3,\n",
    "                data=hd,\n",
    "                kind=\"count\", height=4, aspect=.8)"
   ]
  },
  {
   "cell_type": "markdown",
   "metadata": {},
   "source": [
    "### _Challenge Question 1 (1 point)_\n",
    "Modify and apply one of the plots above to visualize the possible impact of `major_vessels` in predicting heart disease. Do you think this might be a relevant factor for predicting hearth disease? If so (or not) write it in a comment."
   ]
  },
  {
   "cell_type": "code",
   "execution_count": null,
   "metadata": {},
   "outputs": [],
   "source": [
    "# insert your code here"
   ]
  },
  {
   "cell_type": "markdown",
   "metadata": {},
   "source": [
    "### _Challenge Question 2 (1 point)_:\n",
    "For years dietians and food scientists have stated that cholesterol was a really important factor in heart disease, though other studies have pointed to the contrary. Though we are not qualified to tell science otherwise, we can check to see whether the data, at face value, supports this finding. Drawing from the examples above and your expereince from prior labs, do the following:\n",
    "\n",
    "- Visualize the distribtuions of cholesterol levels for the patient records with heart disease and those who do not have it\n",
    "- Complete a Pearson correlation of the relationship between cholesterol and heart disease\n",
    "- Leave a comment somewhere in your answer about whether it is a significant relationship"
   ]
  },
  {
   "cell_type": "code",
   "execution_count": null,
   "metadata": {},
   "outputs": [],
   "source": [
    "# insert your code here"
   ]
  },
  {
   "cell_type": "code",
   "execution_count": 18,
   "metadata": {},
   "outputs": [
    {
     "data": {
      "text/plain": [
       "(-0.08523910513756905, 0.13879032695600968)"
      ]
     },
     "execution_count": 18,
     "metadata": {},
     "output_type": "execute_result"
    }
   ],
   "source": [
    "from scipy import stats\n",
    "stats.pearsonr(hd[\"cholesterol\"], hd[\"target\"]) # not significant"
   ]
  },
  {
   "cell_type": "markdown",
   "metadata": {},
   "source": [
    "## Objective 2: Apply a classifier\n",
    "We're now ready to start exploring classification. The concept of classification is far more difficult than the code that supports it, so please consider watching the _Introduction to Machine Learning_ video linked on Brightspace. This is the \"Colin's Notes\" (*chough* not Coles Notes) version.\n",
    "\n",
    "Algorithms are a series of logical steps used to complete a task. The computer programs that you write in Python are algorithms; your computer interprets these and executes them. However, when it comes to larger or non-obvious data sets, it is impossible to explicitly tell your computer what to do. Last week, for example, we had 500 000 records of e-commerce transactions. Imagine having to sort through 500 000 records to find out which ones were related! _Not going to happen_.\n",
    "\n",
    "Fortunately, we have machine learning. The goal of machine learning is to create algorithms that accomplish tasks without explicitly programed (Grimson, 2017). To do this, machine learning uses a special set of \"machine learning algorithms\" to _fit_ to a set of data. The created algorithm can then (in the case of classification) classify new instances or data that was not part of the original set.\n",
    "\n",
    "To demonstrate classification, we will complete a very simple task. We will use an algorithm called _RandomForest_ to _fit_ to part of our data set (around two thirds). The result will be a algorithm that can tell whether a patient has heart disease. We will then test its performance on the remaining third of the data.\n",
    "\n",
    "To accomplish this task, we will draw from Scikit-Learn, one of Python's most prominent libraries.\n",
    "\n",
    "#### About Random Forest\n",
    "The [Random Forest classifier](https://scikit-learn.org/stable/modules/generated/sklearn.ensemble.RandomForestClassifier.html) is part of an algorithm family called decision trees. This algorithm might be fairly familiar to you; the goal of Random Forest is to create a series of decisions similarly to a flow chart. The algorithm essetnailly observes the data and determines a series of rules that are best suited to classifying the data based on the information gained by the decision tree. When we specify a Random Forest classifier, we can specify the number of rules that it looks for by adjusting the `n_estimators` variable, among others.\n",
    "\n",
    "#### Load the classifier\n",
    "The first thing that we will need to do is load the classifier. We can do this by loading Scikit-Learn's `RandomForestClassifier` object from its `ensamble` library. We will save the classifier as `clf`."
   ]
  },
  {
   "cell_type": "code",
   "execution_count": 19,
   "metadata": {},
   "outputs": [],
   "source": [
    "from sklearn.ensemble import RandomForestClassifier # import sklearn\n",
    "\n",
    "clf = RandomForestClassifier(n_estimators=10, random_state=0) # save the random forest classifier as clf"
   ]
  },
  {
   "cell_type": "markdown",
   "metadata": {},
   "source": [
    "#### Resample the data\n",
    "Currently, our data set is structured such that the records that were positive for heart disease consist of the first 165 rows,  while those that are negative occupied the remaining. This is unfriendly to machine learning. If we are going to train our algorithm on a portion of the data, it is important that this is a random sample. We should thus randomize our data. The line below saves a new data frame called `hdr` (heart disease random) that is a randomized version of our old frame. "
   ]
  },
  {
   "cell_type": "code",
   "execution_count": 20,
   "metadata": {},
   "outputs": [],
   "source": [
    "hdr = hd.sample(frac=1) # save a randomized data frame"
   ]
  },
  {
   "cell_type": "markdown",
   "metadata": {},
   "source": [
    "We can now divide the data. We will take the first 150 records from `hdr` for training the algorithm and the remaining 153 for testing. __Note__ that this is a simple way of selecting test and training data and is used for teaching purposes. There are other ways of resampling data which might be better suited for this task."
   ]
  },
  {
   "cell_type": "code",
   "execution_count": 21,
   "metadata": {},
   "outputs": [
    {
     "name": "stdout",
     "output_type": "stream",
     "text": [
      "Train: 150 Test: 153\n"
     ]
    }
   ],
   "source": [
    "train = hdr[:150] # take the first 200 records as train\n",
    "test = hdr[150:] # take the ramining 103 records as test\n",
    "\n",
    "print(\"Train: \" + str(len(train)) + \" Test: \" + str(len(test)))"
   ]
  },
  {
   "cell_type": "markdown",
   "metadata": {},
   "source": [
    "#### Train the classifier\n",
    "We are now ready to train the classifier by _fitting_ it to the data. Scikit-Learn's `fit()` method takes two inputs: the data that you wish to classify and labels of the data being classified. This part is a little confusing, but is done this was for a very good reason. It is important to separate the labels from the observed training data because the labels are what we want the algorithm to predict. If we included the labels with the training data, the Random Forest would detect the label as the best feature to ... predict the labels.\n",
    "\n",
    "The code below creates a dataframe called `training_observed` consisting of all of the training data _other_ thank the labels and a list consisting of the `target` column data called `training_labels`. We then call RandomForest's `fit()` to the data. We now have a trained algorithm! "
   ]
  },
  {
   "cell_type": "code",
   "execution_count": 22,
   "metadata": {},
   "outputs": [
    {
     "name": "stderr",
     "output_type": "stream",
     "text": [
      "C:\\Users\\cdcon\\AppData\\Local\\Temp/ipykernel_16608/2607954674.py:1: FutureWarning: In a future version of pandas all arguments of DataFrame.drop except for the argument 'labels' will be keyword-only\n",
      "  training_observed = train.drop('target', 1) # training data without target labels\n"
     ]
    },
    {
     "data": {
      "text/plain": [
       "RandomForestClassifier(n_estimators=10, random_state=0)"
      ]
     },
     "execution_count": 22,
     "metadata": {},
     "output_type": "execute_result"
    }
   ],
   "source": [
    "training_observed = train.drop('target', 1) # training data without target labels\n",
    "training_labels = train['target'] # the target column as labels\n",
    "\n",
    "clf.fit(training_observed, training_labels) # fit the training data and the labels to create a classifier called clf"
   ]
  },
  {
   "cell_type": "markdown",
   "metadata": {},
   "source": [
    "#### Create predictions\n",
    "RandomForest is now ready for action. We can test the algorithm's performance on the remaining 1/3 of the data that we saved earlier. The code below similarly separates the labels out of the `test` data. Using this, we can create predictions. The code below separates the data as before, but also uses the data to create predictions, which is saved in `preds`. You can see the predictions that the algorithm made below."
   ]
  },
  {
   "cell_type": "code",
   "execution_count": 23,
   "metadata": {},
   "outputs": [
    {
     "name": "stderr",
     "output_type": "stream",
     "text": [
      "C:\\Users\\cdcon\\AppData\\Local\\Temp/ipykernel_16608/1984128258.py:1: FutureWarning: In a future version of pandas all arguments of DataFrame.drop except for the argument 'labels' will be keyword-only\n",
      "  test_observed = test.drop('target', 1) # test data without labels\n"
     ]
    },
    {
     "data": {
      "text/plain": [
       "array([1, 1, 0, 1, 1, 0, 0, 0, 0, 1, 1, 1, 0, 0, 0, 1, 0, 1, 1, 1, 0, 1,\n",
       "       1, 1, 1, 1, 1, 1, 1, 1, 0, 1, 0, 1, 0, 0, 1, 0, 0, 0, 1, 0, 1, 1,\n",
       "       0, 1, 0, 0, 1, 1, 1, 0, 1, 1, 1, 1, 0, 1, 1, 1, 0, 0, 0, 1, 1, 1,\n",
       "       1, 1, 0, 1, 0, 0, 0, 0, 1, 1, 0, 0, 1, 1, 0, 0, 1, 1, 0, 0, 0, 1,\n",
       "       1, 1, 1, 1, 0, 1, 0, 1, 0, 1, 1, 0, 1, 1, 0, 1, 1, 1, 1, 0, 1, 1,\n",
       "       1, 0, 1, 0, 0, 0, 1, 1, 1, 1, 0, 0, 0, 1, 1, 1, 1, 1, 1, 1, 1, 0,\n",
       "       1, 1, 1, 1, 0, 1, 0, 1, 1, 1, 1, 0, 0, 0, 0, 1, 0, 0, 1, 1, 0],\n",
       "      dtype=int64)"
      ]
     },
     "execution_count": 23,
     "metadata": {},
     "output_type": "execute_result"
    }
   ],
   "source": [
    "test_observed = test.drop('target', 1) # test data without labels\n",
    "\n",
    "preds = clf.predict(test_observed) # ask the classifier (clf) to predict\n",
    "preds # show the predictions"
   ]
  },
  {
   "cell_type": "markdown",
   "metadata": {},
   "source": [
    "#### Test the algorithm's performance\n",
    "Finally, we are now able to test the performance of the algorithm. There are a few different ways that this can be done. One common way to do this is to measure the algorithm's accuracy (the rate of correct negatives and correct positives vs all observations). \n",
    "\n",
    "The code uses Scikit-Learn's `accuracy_score` method to calculate this for us. It takes our predictions and true labels as inputs and then calculates the result. Though I don't know for sure (because the data is randomize) I imagine that your algorithm has an accuracy of somewhere between 70% and 85%. Not too shabby! Congratulations, you have just trained your first machine learning algorithm! "
   ]
  },
  {
   "cell_type": "code",
   "execution_count": 24,
   "metadata": {},
   "outputs": [
    {
     "data": {
      "text/plain": [
       "0.8366013071895425"
      ]
     },
     "execution_count": 24,
     "metadata": {},
     "output_type": "execute_result"
    }
   ],
   "source": [
    "from sklearn.metrics import accuracy_score # import the accuracy score calculator\n",
    "\n",
    "test_labels = test['target'] # the test data target labels\n",
    "accuracy_score(preds, test_labels) # compare the accuracy of the predicted labels and the actual labels"
   ]
  },
  {
   "cell_type": "markdown",
   "metadata": {},
   "source": [
    "## _Challenge Question 3 (1 point)_\n",
    "In the steps mentioned above, we divided the data into train and test datasets; the train data was 1/2 of the overall data and the test data was 1/2 of the data. What happens if we instead take around 80% of the data (the first 240 instances) as training data and 20% of the data (the remaining 63) as test? \n",
    "\n",
    "Implement code in the cell below that replicates the results above (Random Forest classifier), but with modified train/test data. Was it more accurate? It might not be the case; it's always good to double-check though!"
   ]
  },
  {
   "cell_type": "code",
   "execution_count": null,
   "metadata": {},
   "outputs": [],
   "source": [
    "# insert your code here"
   ]
  },
  {
   "cell_type": "markdown",
   "metadata": {},
   "source": [
    "# Objective 3: Apply and compare multiple classifiers\n",
    "Though we have one working classifier, it's also important to test other classifiers. Though the decision tree works well in this context, other classifiers might also work well or better. There is no perfect classifer for all context; some classifiers will be a better fit for different data in different contexts. We should try a few techniques and compare their results before calling it a day. Before we get started, lets start by returning to the original data that we had (50-50 split) so that we can assess the algorithms consistently."
   ]
  },
  {
   "cell_type": "code",
   "execution_count": 25,
   "metadata": {},
   "outputs": [
    {
     "name": "stderr",
     "output_type": "stream",
     "text": [
      "C:\\Users\\cdcon\\AppData\\Local\\Temp/ipykernel_16608/175165340.py:4: FutureWarning: In a future version of pandas all arguments of DataFrame.drop except for the argument 'labels' will be keyword-only\n",
      "  training_observed = train.drop('target', 1) # prepare training data by removing labels\n",
      "C:\\Users\\cdcon\\AppData\\Local\\Temp/ipykernel_16608/175165340.py:7: FutureWarning: In a future version of pandas all arguments of DataFrame.drop except for the argument 'labels' will be keyword-only\n",
      "  test_observed = test.drop('target', 1) # prepare test data by removing labels\n"
     ]
    }
   ],
   "source": [
    "train = hdr[:150] # train is the first 150\n",
    "test = hdr[150:] # test is the last 150\n",
    "\n",
    "training_observed = train.drop('target', 1) # prepare training data by removing labels\n",
    "training_labels = train['target']\n",
    "\n",
    "test_observed = test.drop('target', 1) # prepare test data by removing labels\n",
    "test_labels = test['target']"
   ]
  },
  {
   "cell_type": "markdown",
   "metadata": {},
   "source": [
    "#### Support Vector Machines (SVM)\n",
    "One popular technique is called _support vector machines_. Unlike decision trees, it's not that straight forward how these work \"under the hood\". This classifier reduces the data to a simpler form, fits a simple algorithm to it, and then expands that algorithm to the multidimensional data that we have. Don't worry too much about the details; if you are interested, you can learn more in [scikit-learn's SVM documentation](https://scikit-learn.org/stable/modules/svm.html). \n",
    "\n",
    "This doesn't stop us from trying it though. The code below implements the SVM classifier. Try running it and see what happens."
   ]
  },
  {
   "cell_type": "code",
   "execution_count": 26,
   "metadata": {},
   "outputs": [
    {
     "data": {
      "text/plain": [
       "0.5751633986928104"
      ]
     },
     "execution_count": 26,
     "metadata": {},
     "output_type": "execute_result"
    }
   ],
   "source": [
    "from sklearn import svm # import SVM\n",
    "clf = svm.SVC(gamma='scale') # save clf as the new SVM classifier\n",
    "\n",
    "clf.fit(training_observed, training_labels) # fit the SVM classifier\n",
    "preds = clf.predict(test_observed) # predict the results\n",
    "accuracy_score(preds, test_labels) # display the accuracy"
   ]
  },
  {
   "cell_type": "markdown",
   "metadata": {},
   "source": [
    "Chances are that your accuracy will not be very good, around 60-65%. This is because we did not select a good kernel for this task. By default, SVM uses a kernel called `radial basis function` which is good for some types of normalized data. When using SVM, it's usually a good idea to also try the `linear` kernel, which is implemented in the code below."
   ]
  },
  {
   "cell_type": "code",
   "execution_count": 27,
   "metadata": {},
   "outputs": [
    {
     "data": {
      "text/plain": [
       "0.8366013071895425"
      ]
     },
     "execution_count": 27,
     "metadata": {},
     "output_type": "execute_result"
    }
   ],
   "source": [
    "from sklearn import svm # as before\n",
    "clf = svm.SVC(gamma='scale', kernel=\"linear\") # note that we have the option to change the kernel to 'linear' here\n",
    "\n",
    "clf.fit(training_observed, training_labels) # as before\n",
    "preds = clf.predict(test_observed)\n",
    "accuracy_score(preds, test_labels)"
   ]
  },
  {
   "cell_type": "markdown",
   "metadata": {},
   "source": [
    "#### Naive Bayes\n",
    "A third technique we can try is called Naive Bayes. This is a probabilistic classifier based on [Bayes Theorem](https://en.wikipedia.org/wiki/Bayes%27_theorem). It is primarily used in text analysis, but can be used in our context as well. Let's train this classifier using the same code as before. You will probably end up with good results using Naive Bayes."
   ]
  },
  {
   "cell_type": "code",
   "execution_count": 28,
   "metadata": {},
   "outputs": [
    {
     "data": {
      "text/plain": [
       "0.8366013071895425"
      ]
     },
     "execution_count": 28,
     "metadata": {},
     "output_type": "execute_result"
    }
   ],
   "source": [
    "from sklearn.naive_bayes import GaussianNB # import GaussianNB\n",
    "clf = GaussianNB() # specify the NB classifier\n",
    "\n",
    "clf.fit(training_observed, training_labels)\n",
    "preds = clf.predict(test_observed)\n",
    "accuracy_score(preds, test_labels)"
   ]
  },
  {
   "cell_type": "markdown",
   "metadata": {},
   "source": [
    "Finally, it is worth mentioning that we can also dig more deeply into an algorithm's performance. For example, we could observe the _Confusion Matrix_ which is a way of visualizing exactly how the results were classified. In a [confusion matrix](https://en.wikipedia.org/wiki/Confusion_matrix) each row represents an instance of the predicted class, while each column represents the actual class. By visualizing the results this way, we can get a sense of exactly how the classification performed."
   ]
  },
  {
   "cell_type": "code",
   "execution_count": 29,
   "metadata": {},
   "outputs": [
    {
     "data": {
      "text/plain": [
       "array([[47,  6],\n",
       "       [19, 81]], dtype=int64)"
      ]
     },
     "execution_count": 29,
     "metadata": {},
     "output_type": "execute_result"
    }
   ],
   "source": [
    "from sklearn.metrics import confusion_matrix\n",
    "confusion_matrix(preds, test_labels) #shows the confusion matrix"
   ]
  },
  {
   "cell_type": "markdown",
   "metadata": {},
   "source": [
    "Here's how to interpret the confusion matrix:\n",
    "- The values in the top left of the matrix were classified as \"no heart disease\" and indeed had no heart disease\n",
    "- The values in the top right of the matrix were classified as \"no heart disease\" but had heart disease\n",
    "- The values in the bottom right of the matrix were classified as \"has heart disease\" and indeed had heart disease\n",
    "- The values in the bottom left of the matrix were classified as \"no heart disease\" but had heart disease\n",
    "\n",
    "This confusion matrix suggests that our Naive Bayes algorithm had a bit of trouble classifying people as \"no heart disease\" when they actually did. For more information about how to interpret these results from the perspective of statistics, read through the Wikipedia page on the concepts of `accuracy, precision and recall` as discssed above, or in Grimson's video. We will not expand on these any further here."
   ]
  },
  {
   "cell_type": "markdown",
   "metadata": {},
   "source": [
    "### _Challenge Question 4 (2 points)_\n",
    "This brings us to our final challenge question. In addition to Random Forest, Support Vector Machines or Naive Bayes, there are many other algorithms which can be tried. For example, you could try [linear discriminant analysis (LDA)](https://scikit-learn.org/stable/modules/generated/sklearn.discriminant_analysis.LinearDiscriminantAnalysis.html#sklearn.discriminant_analysis.LinearDiscriminantAnalysis).\n",
    "\n",
    "Read through the documentation on Scikit-Learn's LDA classifier, which can be [found here](https://scikit-learn.org/stable/modules/generated/sklearn.discriminant_analysis.LinearDiscriminantAnalysis.html#sklearn.discriminant_analysis.LinearDiscriminantAnalysis). Based on what you have read, implement the LDA classifier with this data. Write a comment somewhere below that states whether this is higher or lower than your previously observed classification tasks. "
   ]
  },
  {
   "cell_type": "code",
   "execution_count": null,
   "metadata": {},
   "outputs": [],
   "source": [
    "# insert your code here"
   ]
  },
  {
   "cell_type": "markdown",
   "metadata": {},
   "source": [
    "## References\n",
    "\n",
    "Aha, David. Heart disease data set. https://archive.ics.uci.edu/ml/datasets/Heart+Disease\n",
    "\n",
    "Detrano, R., Janosi, A., Steinbrunn, W., Pfisterer, M., Schmid, J., Sandhu, S., Guppy, K., Lee, S., & Froelicher, V. (1989). International application of a new probability algorithm for the diagnosis of coronary artery disease. American Journal of Cardiology, 64,304--310.\n",
    "\n",
    "David W. Aha & Dennis Kibler. \"Instance-based prediction of heart-disease presence with the Cleveland database.\"\n",
    "\n",
    "Gennari, J.H., Langley, P, & Fisher, D. (1989). Models of incremental concept formation. Artificial Intelligence, 40, 11--61.\n",
    "\n",
    "Grimson, E. (2017). Introduction to machine learning. MIT & YouTube. https://www.youtube.com/watch?v=h0e2HAPTGF4 \n",
    "\n",
    "Pedregosa, F., Varoquaux, G., Gramfort, A., Michel, V., Thirion, B., Grisel, O., ... & Duchesnay, E. (2011). Scikit-learn: Machine learning in Python. the Journal of machine Learning research, 12, 2825-2830."
   ]
  }
 ],
 "metadata": {
  "kernelspec": {
   "display_name": "Python 3 (ipykernel)",
   "language": "python",
   "name": "python3"
  },
  "language_info": {
   "codemirror_mode": {
    "name": "ipython",
    "version": 3
   },
   "file_extension": ".py",
   "mimetype": "text/x-python",
   "name": "python",
   "nbconvert_exporter": "python",
   "pygments_lexer": "ipython3",
   "version": "3.9.7"
  }
 },
 "nbformat": 4,
 "nbformat_minor": 4
}
